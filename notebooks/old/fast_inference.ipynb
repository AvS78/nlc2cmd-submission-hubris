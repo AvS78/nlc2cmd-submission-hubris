{
 "cells": [
  {
   "cell_type": "markdown",
   "metadata": {},
   "source": [
    "Notebook to time the inference speed of different models/generation models"
   ]
  },
  {
   "cell_type": "code",
   "execution_count": 6,
   "metadata": {},
   "outputs": [],
   "source": [
    "from transformers import GPT2LMHeadModel, GPT2Tokenizer\n",
    "from src.generate import predict_single, encode\n",
    "from src.config import load_cfg, cfg, set_cfg\n",
    "import torch\n",
    "from timeit import default_timer as timer\n",
    "import matplotlib.pyplot as plt\n",
    "torch.set_num_threads(40)\n",
    "#torch.set_grad_enabled(False)"
   ]
  },
  {
   "cell_type": "code",
   "execution_count": 3,
   "metadata": {},
   "outputs": [],
   "source": [
    "model_path = \"output/nl2bash/07-28_13:58:03\"\n",
    "model_name = \"gpt2\"\n",
    "device = 'cuda'\n",
    "load_cfg(model_path + '/conf.txt')\n",
    "set_cfg('device', device)"
   ]
  },
  {
   "cell_type": "code",
   "execution_count": null,
   "metadata": {},
   "outputs": [],
   "source": []
  },
  {
   "cell_type": "code",
   "execution_count": null,
   "metadata": {
    "scrolled": true
   },
   "outputs": [],
   "source": []
  },
  {
   "cell_type": "code",
   "execution_count": 7,
   "metadata": {},
   "outputs": [
    {
     "name": "stdout",
     "output_type": "stream",
     "text": [
      "80\n"
     ]
    }
   ],
   "source": [
    "max_length = len(tokenizer.encode(encode(query))) + 20\n",
    "print(max_length)\n",
    "\n",
    "def time_query(query, max_length=100):\n",
    "    start = timer()\n",
    "    r = predict_single(model, tokenizer, query, device=device, max_length=max_length, beams=1, top=1)\n",
    "    delta = 1000 * (timer()-start)\n",
    "    print(\"RESULT\")\n",
    "    print(r)\n",
    "    return delta\n"
   ]
  },
  {
   "cell_type": "code",
   "execution_count": 8,
   "metadata": {},
   "outputs": [
    {
     "name": "stdout",
     "output_type": "stream",
     "text": [
      "tensor([[50256, 46932,    25,  7152,   480,   366,  7753,    13, 14116,     1,\n",
      "           287, 29196,   366,    85,    62,    16,  1600,   366,    85,    62,\n",
      "            17,  1600,   290,   366,    85,    62,    18,     1,  1123,   284,\n",
      "           366,    85,    62,    16,    13, 14116,  1600,   366,    85,    62,\n",
      "            17,    13, 14116,  1600,   290,   366,    85,    62,    18,    13,\n",
      "         14116,     1,  8148,   290,  3601,   262, 11315,   198, 41757,    25,\n",
      "           285,    85,  2393,    13, 14116,   410,    62,    16,    13, 14116,\n",
      "           410,    62,    17,    13, 14116,   410,    62,    18,    13, 14116]],\n",
      "       device='cuda:0')\n",
      "RESULT\n",
      "mv file.txt v_1.txt v_2.txt v_3.txt\n",
      "CPU times: user 471 ms, sys: 80.6 ms, total: 552 ms\n",
      "Wall time: 550 ms\n"
     ]
    },
    {
     "data": {
      "text/plain": [
       "550.1068495213985"
      ]
     },
     "execution_count": 8,
     "metadata": {},
     "output_type": "execute_result"
    }
   ],
   "source": [
    "%%time\n",
    "query = 'Rename \"file.txt\" in directories \"v_1\", \"v_2\", and \"v_3\" each to \"v_1.txt\", \"v_2.txt\", and \"v_3.txt\" respectively and print the conversion'\n",
    "time_query(query, max_length=max_length)"
   ]
  },
  {
   "cell_type": "code",
   "execution_count": 38,
   "metadata": {},
   "outputs": [
    {
     "data": {
      "text/plain": [
       "[<matplotlib.lines.Line2D at 0x7f305d2a40d0>]"
      ]
     },
     "execution_count": 38,
     "metadata": {},
     "output_type": "execute_result"
    },
    {
     "data": {
      "image/png": "[encoded data removed]",
      "text/plain": [
       "<Figure size 432x288 with 1 Axes>"
      ]
     },
     "metadata": {
      "needs_background": "light"
     },
     "output_type": "display_data"
    }
   ],
   "source": [
    "lengths = range(25,200,10)\n",
    "deltas = [time_query(query, x) for x in lengths]\n",
    "\n",
    "plt.plot(lengths, deltas)\n",
    "# GPT2-MEDIUM"
   ]
  },
  {
   "cell_type": "code",
   "execution_count": null,
   "metadata": {},
   "outputs": [],
   "source": []
  }
 ],
 "metadata": {
  "kernelspec": {
   "display_name": "Python 3",
   "language": "python",
   "name": "python3"
  },
  "language_info": {
   "codemirror_mode": {
    "name": "ipython",
    "version": 3
   },
   "file_extension": ".py",
   "mimetype": "text/x-python",
   "name": "python",
   "nbconvert_exporter": "python",
   "pygments_lexer": "ipython3",
   "version": "3.7.6"
  }
 },
 "nbformat": 4,
 "nbformat_minor": 4
}
