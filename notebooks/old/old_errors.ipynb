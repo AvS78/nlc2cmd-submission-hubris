{
 "cells": [
  {
   "cell_type": "code",
   "execution_count": 1,
   "metadata": {},
   "outputs": [],
   "source": [
    "from transformers import GPT2LMHeadModel, GPT2Tokenizer\n",
    "\n",
    "from src.generate import predict_single_mod, encode, predict_all\n",
    "from src.dataset import get_validation_data\n",
    "from src.config import cfg, load_cfg, set_cfg\n",
    "\n",
    "import torch\n",
    "import pandas as pd\n",
    "from timeit import default_timer as timer\n",
    "import matplotlib.pyplot as plt\n",
    "from nltk.translate.bleu_score import sentence_bleu\n",
    "import numpy as np\n",
    "from tqdm import tqdm\n",
    "import random"
   ]
  },
  {
   "cell_type": "code",
   "execution_count": 2,
   "metadata": {},
   "outputs": [],
   "source": [
    "model_path = \"output/nl2bash/08-25_17:51:19\"\n",
    "model_name = \"gpt2-medium\"\n",
    "device = \"cuda\"\n",
    "load_cfg(model_path)\n",
    "set_cfg('device', device)\n",
    "set_cfg('beams', 3)\n"
   ]
  },
  {
   "cell_type": "code",
   "execution_count": 3,
   "metadata": {},
   "outputs": [],
   "source": [
    "model = GPT2LMHeadModel.from_pretrained(model_path)\n",
    "model.to(device)\n",
    "tokenizer = GPT2Tokenizer.from_pretrained(model_name)"
   ]
  },
  {
   "cell_type": "code",
   "execution_count": 4,
   "metadata": {},
   "outputs": [],
   "source": [
    "def post(nl, cm):\n",
    "    dev_dict = {}\n",
    "    for x, y in zip(cm, nl):\n",
    "        if y not in dev_dict.keys():\n",
    "            dev_dict[y] = [x]\n",
    "        else:\n",
    "            dev_dict[y].append(x)\n",
    "    \n",
    "    dev_dataset = zip(*dev_dict.items())\n",
    "    return dev_dataset"
   ]
  },
  {
   "cell_type": "code",
   "execution_count": 5,
   "metadata": {},
   "outputs": [],
   "source": [
    "def read_file(name, data_path=\"data/nl2bash/\"):\n",
    "    with open(data_path+name) as f:\n",
    "        return [x.strip() for x in f.readlines()]\n",
    "    \n",
    "def save_file(name, content, data_path=\"data/nl2bash/\"):\n",
    "    content = \"\\n\".join(content)\n",
    "    #print(content)\n",
    "    with open(data_path+name, 'w') as f:\n",
    "        f.write(content)\n",
    "\n",
    "nl = read_file('train_nl.txt')\n",
    "cm = read_file('train_cm.txt')\n",
    "train_nl, train_cm = post(nl, cm)\n",
    "\n",
    "\n",
    "nl = read_file('test_nl.txt')\n",
    "cm = read_file('test_cm.txt')\n",
    "test_nl, test_cm = post(nl, cm)\n",
    "\n",
    "nl = read_file('dev_nl.txt')\n",
    "cm = read_file('dev_cm.txt')\n",
    "dev_nl, dev_cm = post(nl, cm)\n"
   ]
  },
  {
   "cell_type": "code",
   "execution_count": 6,
   "metadata": {},
   "outputs": [
    {
     "data": {
      "text/plain": [
       "100"
      ]
     },
     "execution_count": 6,
     "metadata": {},
     "output_type": "execute_result"
    }
   ],
   "source": [
    "len(test_nl)"
   ]
  },
  {
   "cell_type": "code",
   "execution_count": 7,
   "metadata": {},
   "outputs": [
    {
     "data": {
      "text/plain": [
       "{'$(dirname $(readlink -e ../../../../etc/passwd))',\n",
       " 'cat file1 file2 ... file40000 | split -n r/1445 -d - outputprefix',\n",
       " 'find  / -type d -iname \"project.images\" -ls',\n",
       " 'find . -atime +30 -print',\n",
       " \"find . -name '*.c' | xargs grep 'stdlib.h'\",\n",
       " \"find / -wholename  '/proc' -prune  -o  -type f -perm -0002 -exec ls -l {} \\\\;\",\n",
       " 'find /path -perm -022',\n",
       " 'find /usr -newer /usr/FirstFile -print'}"
      ]
     },
     "execution_count": 7,
     "metadata": {},
     "output_type": "execute_result"
    }
   ],
   "source": [
    "xx = set([x[0] for x in test_cm])\n",
    "yy = set([x[0] for x in train_cm])\n",
    "xx.intersection(yy)"
   ]
  },
  {
   "cell_type": "code",
   "execution_count": 8,
   "metadata": {},
   "outputs": [
    {
     "data": {
      "text/plain": [
       "('find . -name \"*.clj\"', tensor(0.9472))"
      ]
     },
     "execution_count": 8,
     "metadata": {},
     "output_type": "execute_result"
    }
   ],
   "source": [
    "query = \"find all clojure files in the current directory\"\n",
    "predict_single_mod(model, tokenizer, query, beams=3)"
   ]
  },
  {
   "cell_type": "code",
   "execution_count": 9,
   "metadata": {},
   "outputs": [
    {
     "name": "stderr",
     "output_type": "stream",
     "text": [
      "100%|██████████| 705/705 [08:15<00:00,  1.42it/s]\n"
     ]
    }
   ],
   "source": [
    "pred_cm = []\n",
    "for prompt in tqdm(dev_nl):\n",
    "    r = predict_single_mod(model, tokenizer, prompt)\n",
    "    pred_cm.append(r)"
   ]
  },
  {
   "cell_type": "code",
   "execution_count": 13,
   "metadata": {},
   "outputs": [
    {
     "data": {
      "text/plain": [
       "0.5984327729200272"
      ]
     },
     "execution_count": 13,
     "metadata": {},
     "output_type": "execute_result"
    }
   ],
   "source": [
    "pred = [x[0] for x in pred_cm]\n",
    "bl = [sentence_bleu(y,x) for y,x in zip(dev_cm, pred)]\n",
    "np.mean(bl)\n",
    "# blocked\n",
    "# -3 0.5801870711429646\n",
    "# -1 0.5667328591471584\n",
    "# -8 0.5639580141162904\n",
    "\n",
    "\n",
    "# interleaved\n",
    "# -11 0.5812007820762158\n",
    "# -2 0.5782041192465727\n",
    "# -9 0.5680430641507556\n"
   ]
  },
  {
   "cell_type": "code",
   "execution_count": 16,
   "metadata": {},
   "outputs": [],
   "source": [
    "# met herhaling 0.5654881948617484"
   ]
  },
  {
   "cell_type": "code",
   "execution_count": 12,
   "metadata": {},
   "outputs": [
    {
     "data": {
      "text/plain": [
       "<matplotlib.collections.PathCollection at 0x7f7c56127ed0>"
      ]
     },
     "execution_count": 12,
     "metadata": {},
     "output_type": "execute_result"
    },
    {
     "data": {
      "image/png": "[encoded data removed]",
      "text/plain": [
       "<Figure size 432x288 with 1 Axes>"
      ]
     },
     "metadata": {
      "needs_background": "light"
     },
     "output_type": "display_data"
    }
   ],
   "source": [
    "\n",
    "conf = [x[1] for x in pred_cm]\n",
    "plt.scatter(bl, conf)"
   ]
  },
  {
   "cell_type": "code",
   "execution_count": 13,
   "metadata": {},
   "outputs": [
    {
     "data": {
      "text/plain": [
       "(array([ 53.,  31.,  35.,  51.,  75.,  87.,  80.,  77.,  96., 120.]),\n",
       " array([1.02449142e-231, 1.00000000e-001, 2.00000000e-001, 3.00000000e-001,\n",
       "        4.00000000e-001, 5.00000000e-001, 6.00000000e-001, 7.00000000e-001,\n",
       "        8.00000000e-001, 9.00000000e-001, 1.00000000e+000]),\n",
       " <a list of 10 Patch objects>)"
      ]
     },
     "execution_count": 13,
     "metadata": {},
     "output_type": "execute_result"
    },
    {
     "data": {
      "image/png": "[encoded data removed]",
      "text/plain": [
       "<Figure size 432x288 with 1 Axes>"
      ]
     },
     "metadata": {
      "needs_background": "light"
     },
     "output_type": "display_data"
    }
   ],
   "source": [
    "plt.hist(bl)"
   ]
  },
  {
   "cell_type": "code",
   "execution_count": 14,
   "metadata": {},
   "outputs": [
    {
     "data": {
      "text/plain": [
       "100"
      ]
     },
     "execution_count": 14,
     "metadata": {},
     "output_type": "execute_result"
    }
   ],
   "source": [
    "# these are the labels used for the manual evaluations\n",
    "csv = pd.read_csv('../nl2bash/data/bash/manual_judgements/manual.evaluations.dev.samples.csv')\n",
    "xx_nl = csv['description'][::21].values.tolist()\n",
    "len(xx_nl)"
   ]
  },
  {
   "cell_type": "code",
   "execution_count": 40,
   "metadata": {},
   "outputs": [
    {
     "data": {
      "text/plain": [
       "(array([8.46e+03, 4.77e+02, 9.80e+01, 0.00e+00, 4.00e+01, 1.50e+01,\n",
       "        0.00e+00, 3.00e+00, 0.00e+00, 3.00e+00]),\n",
       " array([1. , 1.7, 2.4, 3.1, 3.8, 4.5, 5.2, 5.9, 6.6, 7.3, 8. ]),\n",
       " <a list of 10 Patch objects>)"
      ]
     },
     "execution_count": 40,
     "metadata": {},
     "output_type": "execute_result"
    },
    {
     "data": {
      "image/png": "[encoded data removed]",
      "text/plain": [
       "<Figure size 432x288 with 1 Axes>"
      ]
     },
     "metadata": {
      "needs_background": "light"
     },
     "output_type": "display_data"
    }
   ],
   "source": [
    "for i in train_cm:\n",
    "    if len(i) == 1:\n",
    "        continue"
   ]
  },
  {
   "cell_type": "code",
   "execution_count": 16,
   "metadata": {},
   "outputs": [
    {
     "data": {
      "text/plain": [
       "100"
      ]
     },
     "execution_count": 16,
     "metadata": {},
     "output_type": "execute_result"
    }
   ],
   "source": []
  },
  {
   "cell_type": "code",
   "execution_count": 17,
   "metadata": {},
   "outputs": [
    {
     "name": "stdout",
     "output_type": "stream",
     "text": [
      "Find all files in your home directory and below that are exactly 100M.\n",
      "find ~ -size 100M\n",
      "> find ~ -size 100M\n",
      "0.9991397261619568\n",
      "EC\n",
      "Display the output of \"ls\" for an 80 character wide display\n",
      "ls | less -S\n",
      "> ls | column -c 80\n",
      "0.907168447971344\n",
      "\n",
      "Archive \"_vimrc\" to \"~/.vimrc\" suppressing non-error messages and compressing data during transmission\n",
      "rsync -avz --exclude='error_log' _vimrc ~/Desktop/\n",
      "> rsync -aqz _vimrc ~/.vimrc\n",
      "0.9228045344352722\n",
      "\n",
      "Print unique lines in sorted file \"A\" when compared to sorted files \"B\", \"C\", and \"D\"\n",
      "comm -23 <(sort -u A) <(sort C) <(sort D)\n",
      "> comm -2 -3 A B | comm -2 -3 - C | comm -2 -3 - D\n",
      "0.9920392632484436\n",
      "\n",
      "Delete all empty directories in minimum 2 levels down the root directory\n",
      "find root -mindepth 2 -type d -empty -delete\n",
      "> find root -mindepth 2 -type d -empty -delete\n",
      "0.9962425827980042\n",
      "EC\n",
      "Find all Subscription.java files/directories under current directory and enter into the parent directory of the first one found\n",
      "find . -name Subscription.java | xargs dirname\n",
      "> cd $(find . -name Subscription.java -printf '%h\\n')\n",
      "> cd $(find . -name Subscription.java | xargs dirname)\n",
      "> cd `find . -name Subscription.java | xargs dirname`\n",
      "0.9622906446456909\n",
      "\n",
      "search for the word echo all the bash files(files ending with .bash) in the current folder\n",
      "find . -name \"*.bash\" -print\n",
      "> find . -name \"*.bash\" |xargs grep \"echo\"\n",
      "0.9763714075088501\n",
      "\n",
      "Answer \"n\" to any prompts in the interactive recursive removal of \"dir1\", \"dir2\", and \"dir3\"\n",
      "yes n | rm -ir dir1 dir2 dir3\n",
      "> yes n | rm -ir dir1 dir2 dir3\n",
      "0.9987764954566956\n",
      "EC\n",
      "find not case sensitive all directories that names are 'project.images'\n",
      "find  / -type d -iname \"project.images\"\n",
      "> find  / -type d -iname \"project.images\" -ls\n",
      "0.9980934262275696\n",
      "\n",
      "Delete all *.zip files under current directory that are older than 2 days\n",
      "find . -name '*.zip' -mtime +2 -exec rm {} \\;\n",
      "> find . -name \"*.zip\" -mtime +2 -print0 | xargs -0 -I {} rm {}\n",
      "> find . -name \"*.zip\" -mtime +2 orint0 | xargs -0 rm\n",
      "0.9764159321784973\n",
      "\n",
      "Find recursively all files under current directory tree that contain a colon in the filename\n",
      "find . -type f -regex '.*/[^.]*$'\n",
      "> find . -name \\*\\:\\*\n",
      "0.9130786061286926\n",
      "\n",
      "Execute all commands in \"commands-to-execute-remotely.sh\" on server \"blah_server\"\n",
      "ssh -t blah_server 'commands-to-execute-remotely.sh'\n",
      "> cat commands-to-execute-remotely.sh | ssh blah_server\n",
      "0.9757417440414429\n",
      "\n",
      "find all files in the current folder which have not been accessed in the last 30 days in the current folder\n",
      "find . -atime +30 -print\n",
      "> find . -atime +30 -print\n",
      "0.9716571569442749\n",
      "EC\n",
      "search for files in current folder using name patterns\n",
      "find . -name '[mM][yY][fF][iI][lL][eE]*'\n",
      "> find . -name \"S1A*1S*SAFE\"\n",
      "0.9477872848510742\n",
      "\n",
      "Locate all \"copyright\" files under and below /usr/share/doc\n",
      "find /usr/share/doc -name \"copyright\"\n",
      "> find /usr/share/doc -name \"copyright\"\n",
      "0.9889677166938782\n",
      "EC\n",
      "Copy all files in \"/mail\" to \"/home/username\" preserving the directory hierarchy and modification times\n",
      "find /mail -depth -print | cpio -pmud /home/username\n",
      "> find /mail -type f | cpio -pvdmB /home/username\n",
      "0.958421528339386\n",
      "\n",
      "Calculate the md5 sum of all files in \"/your/dir\" including content and filenames\n",
      "find /your/dir -type f -print0 | sort -z | xargs -0 md5sum | md5sum\n",
      "> grep -ar -e . /your/dir | md5sum | cut -c-32\n",
      "0.9533616304397583\n",
      "\n",
      "Lists content of all subfolder (without recursion) in a current folder.\n",
      "ls -1d *\n",
      "> ls -d -1 $PWD/**/*\n",
      "0.9047500491142273\n",
      "\n",
      "Find all files starting from the current directory which are owned by the user tommye\n",
      "find . -user tommye -print\n",
      "> find . -user tommye\n",
      "0.9910265207290649\n",
      "\n",
      "Find all the .c files in the current directory tree that contain the string ‘stdlib.h’\n",
      "find . -name \"*.c\" -print0 | xargs -0 grep -l \"stdlib.h\"\n",
      "> find . -name '*.c' | xargs grep 'stdlib.h'\n",
      "> find . -name '*.c' | xargs egrep stdlib.h\n",
      "0.9710094928741455\n",
      "\n",
      "Print the last line of the alphabetically sorted lines in file \"set\"\n",
      "tail -1 file | sort -n | tail -1\n",
      "> tail -1 <(sort set)\n",
      "0.913891077041626\n",
      "\n",
      "Find all regular files under $FILES_PATH directory tree and save the output to 'FILES' variable\n",
      "FILES=`find $FILES_PATH -type f -print`\n",
      "> FILES=$(find $FILES_PATH -type f -name \"*\")\n",
      "0.9606542587280273\n",
      "\n",
      "force delete all the files that have been modified in the last 3 days\n",
      "find . -type f -mtime -3 -exec rm -f {} \\;\n",
      "> find . -mtime -3 -exec rm -rf {} \\;\n",
      "0.9552017450332642\n",
      "\n",
      "Search for 'magic' in all regular files under current directory tree\n",
      "find . -type f -print0 | xargs -0 perl -nle '-e || print';\n",
      "> find . -type f | xargs grep \"magic\"\n",
      "0.9372414946556091\n",
      "\n",
      "find all files in current folder and display the total lines in them\n",
      "find . -type f -exec wc -l {} +\n",
      "> find . | xargs wc -l\n",
      "0.9545383453369141\n",
      "\n",
      "Rename \"file.txt\" in directories \"v_1\", \"v_2\", and \"v_3\" each to \"v_1.txt\", \"v_2.txt\", and \"v_3.txt\" respectively and print the conversion\n",
      "find v_1 v_2 v_3 -type d -exec bash -c 'mv \"$1\" \"${1%.*}.txt\"' -- {} \\;\n",
      "> rename -v 's#/file##' v_{1,2,3}/file.txt\n",
      "0.9616286754608154\n",
      "\n",
      "Recursively finds all '*.pdf' files in a current folder and removes them without prompting.\n",
      "find . -name \"*.pdf\" -print0 | xargs -0 rm\n",
      "> find . -name '*.pdf' -exec rm -f {} \\;\n",
      "0.9684857726097107\n",
      "\n",
      "Find files under /usr that are newer than the first file `FirstFile'\n",
      "find /usr -newer /FirstFile\n",
      "> find /usr -newer /usr/FirstFile -print\n",
      "0.9759113788604736\n",
      "\n",
      "Print the base name of the current working directory\n",
      "echo `pwd` | rev | cut -d/ -f1 | rev\n",
      "> basename \"`pwd`\"\n",
      "> basename $(pwd)\n",
      "> basename `pwd`\n",
      "> echo \"$(basename $(pwd))\"\n",
      "> pwd | xargs basename\n",
      "0.9270824790000916\n",
      "\n",
      "Replace each non-blank line in \"YOURFILE\" preceded with \"pX=\" where \"X\" is the line number\n",
      "nl -ba YOURFILE pX=\"$(wc -l < file)\"\n",
      "> grep -v '^$' YOURFILE | nl -s= -w99 | tr -s ' ' p\n",
      "0.9240658283233643\n",
      "\n",
      "List all symlinks under current directory and search for targetfile.txt in this list\n",
      "find -L -type l -exec grep -Hn \"targetfile.txt\" {} +\n",
      "> find . -type l | xargs -I % ls -l % | grep targetfile.txt\n",
      "0.9188514947891235\n",
      "\n",
      "Search for files in the current user's home directory and below for files that have not been accessed for more than 100 days and ask the user for permission to delete each file, one by one.\n",
      "find $HOME/. -name *.log -atime +100 -ok rm {} \\;\n",
      "> find ~/ -atime +100 -exec rm -i {} \\;\n",
      "0.9684504270553589\n",
      "\n",
      "Find files/directories named 'sar' under directory trees whose path starts with '/u' or '/b' or '/s' or '/o'\n",
      "find ~/sbin /u /b /s /o -name sar\n",
      "> find `ls -d /[ubso]*` -name sar\n",
      "0.9650788903236389\n",
      "\n",
      "Search the current directory tree for regular files modified within the past 24 hours whose names do not end with \".DS_Store\"\n",
      "find . -type f -not -name \"*.DS_Store\" -mtime +0\n",
      "> find . -mtime -1 ! -name '.DS_Store' -type f -exec basename {} \\;\n",
      "> find . -mtime -1 ! -name '.DS_Store' -type f -printf '%f\\n'\n",
      "0.9639347195625305\n",
      "\n",
      "Find *.c files under $HOME and search for the string 'sprintf' in those files\n",
      "find $HOME -name '*.c' -exec grep -H 'sprintf' {} \\;\n",
      "> find $HOME -name '*.c' -print | xargs    grep -l sprintf\n",
      "0.9404695630073547\n",
      "\n",
      "(Linux-specific) Display all lines containing UTRACE in the current kernel's compile-time config file.\n",
      "cat /boot/config-`uname -r` | grep \"TRACE\"\n",
      "> grep UTRACE /boot/config-$(uname -r)\n",
      "0.9579155445098877\n",
      "\n",
      "Look for \"filename\" in the current directory and below\n",
      "find -name \"filename\"\n",
      "> find -name filename\n",
      "0.9597300291061401\n",
      "\n",
      "Find all files on the system that are world writable\n",
      "find / -perm -g+w\n",
      "> find / -wholename  '/proc' -prune  -o  -type f -perm -0002 -exec ls -l {} \\;\n",
      "0.9638031721115112\n",
      "\n",
      "Make directories \"/tmp/A\", \"/tmp/B\", \"/tmp/C\", and \"/tmp/ dir with spaces\"\n",
      "mkdir -p /tmp/A /tmp/B /tmp/C\n",
      "> mkdir /tmp/A /tmp/B /tmp/C \"/tmp/ dir with spaces\"\n",
      "0.9952056407928467\n",
      "\n",
      "Silently read a single character from standard input into variable \"REPLY\" without backslash escapes, with a timeout of 5 seconds, and using the prompt $'Press any key or wait 5 seconds to continue...\\n'\n",
      "read -t 5 -n 1 -p \"$'Press any key or wait 5 seconds to continue...\\n' REPLY\n",
      "> read -rsp $'Press any key or wait 5 seconds to continue...\\n' -n 1 -t 5\n",
      "0.9811704158782959\n",
      "\n",
      "search for the file \".user.log\" in a folder\n",
      "find / -name .user.log\n",
      "> find /nfs/office -name .user.log -print\n",
      "0.9623153805732727\n",
      "\n",
      "display a long listing of all the files in the current folder which have been modified in the last 24 hours\n",
      "find . -mtime -1 -ls\n",
      "> find . -mtime -1 -ls\n",
      "> find . -mtime -1 | xargs ls -ld\n",
      "0.9942370653152466\n",
      "EC\n",
      "Find the largest 10 directories under current directory\n",
      "find . -type d -printf '%s %p\\n' | sort -rn | head -10 | cut -f2- -d\" \"\n",
      "> find . -type d -print0 | xargs -0 du | sort -n | tail -10 | cut -f2 | xargs -I {} du -sh {}\n",
      "0.94587242603302\n",
      "\n",
      "find all the text files in the file system and search only in the disk partition of the root.\n",
      "find / -xdev -name \"*.txt\" -print\n",
      "> find / -mount -name \"*.txt\"\n",
      "> find / -xdev -name \"*.txt\"\n",
      "0.9716342091560364\n",
      "\n",
      "Remove the passphrase from ~/.ssh/id_rsa.\n",
      "echo -e \"\\r\\n\" | ssh-keygen -P ''\n",
      "> ssh-keygen -f ~/.ssh/id_rsa -P \"\"\n",
      "0.8906727433204651\n",
      "\n",
      "Find the directory with least modification time under current directory\n",
      "find -type d -mtime -1\n",
      "> find -type d -printf '%T+ %p\\n' | sort | head -1\n",
      "0.9488744139671326\n",
      "\n",
      "search for a file \"file\" in current folder and if the file is found quit !\n",
      "find . -name file -print -quit\n",
      "> find -name file -quit\n",
      "0.9606130719184875\n",
      "\n",
      "Remove `core' files whose status was changed more than 4 days ago\n",
      "find . -name core -ctime +4 -exec rm -f {} \\;\n",
      "> find `pwd` -name core -ctime +4 -execdir rm -f {} \\;\n",
      "0.9368979930877686\n",
      "\n",
      "Find \"*.dat\" files recursively in the current directory, print the lines starting on line 5 to the console and save to \"concat.txt\"\n",
      "find . -name \"*.dat\" | tee >(wc -l <concat.txt)\n",
      "> find . -type f \\( -name \"*.dat\" \\) -exec tail -n+5 -q \"$file\" {} + |tee concat.txt\n",
      "0.9729344248771667\n",
      "\n",
      "display all the files ending with .c in the current folder\n",
      "find . -name \"*.c\"\n",
      "> find . -name \\*.c -print0\n",
      "0.9709909558296204\n",
      "\n",
      "Print a list of all duplicate case insensitive file paths in the current directory tree\n",
      "find -iname '*.ISOLATE' | sort -f | uniq -i -d\n",
      "> find . | sort -f | uniq -i -d\n",
      "0.9051167368888855\n",
      "\n",
      "Prints path to folder that contains target of the symbolic link ../../../../etc/passwd.\n",
      "dirname $(readlink -e ../../../../etc/passwd)\n",
      "> $(dirname $(readlink -e ../../../../etc/passwd))\n",
      "0.9783480167388916\n",
      "\n",
      "remove all the core files from /usr folder which have not been accessed in the last 7*24 hours\n",
      "find /usr -name core -atime +7 -exec rm {} \\;\n",
      "> find /usr -name core -atime +7 -exec rm {} \\;\n",
      "0.9971854090690613\n",
      "EC\n",
      "Search for the string 'git' in all the files under current directory tree without traversing into '.git' folder and excluding files that have 'git' in their names\n",
      "find . -name .git -prune -o -print0 | xargs -0 grep git\n",
      "> find . -path ./.git -prune -o -not -name '*git*' -print |grep git\n",
      "0.9743358492851257\n",
      "\n",
      "Split the contents of \"file1 file2 ... file40000\" into 1445 files in a round robin fashion with prefix \"outputprefix\" and numeric suffixes\n",
      "split --numeric-suffixes --suffix-length=1445 file1 file2 ... file40000 outputprefix\n",
      "> cat file1 file2 ... file40000 | split -n r/1445 -d - outputprefix\n",
      "0.9598822593688965\n",
      "\n",
      "Search the current directory tree for files and directories with permissions 775\n",
      "find . -perm 775\n",
      "> find .  -perm 775 -print\n",
      "0.9873981475830078\n",
      "\n",
      "Find files/directories writable by group and others under the /path directory\n",
      "find /path -perm -022\n",
      "> find /path -perm -022\n",
      "> find /path -perm -g+w,o+w\n",
      "> find /path -perm -go+w\n",
      "0.9822684526443481\n",
      "EC\n",
      "Find \"file.xml\" under the current directory and change directory to its parent\n",
      "cd `find . -name file.xml`\n",
      "> cd `find . -name file.xml -exec dirname {} \\;`\n",
      "> cd `find . -name file.xml -printf %h`\n",
      "0.9746779203414917\n",
      "\n",
      "Read a line from standard input into variable \"message\" with the prompt \"Please Enter a Message: $cr\"\n",
      "read -p \"Please Enter a Message: $cr\" message\n",
      "> read -p \"Please Enter a Message: $cr\" message\n",
      "0.9914152026176453\n",
      "EC\n",
      "Perform a white space safe search for all files/directories under current directory\n",
      "find . -print0 | xargs -0 -n 1\n",
      "> find . -print0 | xargs -0\n",
      "0.9378979802131653\n",
      "\n",
      "Verbosely compresses all files on seventh and eighth depth level keeping original files in place.\n",
      "bzip2 -kv */*/*/*/*/*\n",
      "> bzip2 -kv */*/*/*/*/*/*/*\n",
      "0.9208449125289917\n",
      "\n",
      "find all the wav files in the current folder and do not search in the sub directories\n",
      "find . -maxdepth 1 -type f -name '*.wav'\n",
      "> find . -name '*.wav' -maxdepth 1\n",
      "0.9762393236160278\n",
      "\n",
      "Show the list of directories in the /mnt/raid directory tree\n",
      "find /mnt/raid -type d\n",
      "> find /mnt/raid -type d -print\n",
      "0.9887619018554688\n",
      "\n",
      "Add executable permission to \"pretty-print\"\n",
      "chmod +x pretty-print\n",
      "> chmod +x pretty-print\n",
      "0.9895075559616089\n",
      "EC\n",
      "Find all .js files in the $d directory tree whose pathnames do not contain whitespaces\n",
      "find \"$d/\" -name '*.js' -not -path \"*/*\"\n",
      "> find $d -name '*.js' | grep -v \" \"\n",
      "0.9540529251098633\n",
      "\n",
      "Find all files/directories named 'photo.jpg' (case insensitive) under current directory tree\n",
      "find . -iname photo.jpg\n",
      "> find . -iname \"photo.jpg\"\n",
      "0.9945859909057617\n",
      "\n",
      "Verbosely compresses all files on second and third depth level keeping original files in place.\n",
      "bzip2 -kv */*/*/*/*\n",
      "> bzip2 -kv */*\n",
      "0.9189595580101013\n",
      "\n",
      "Search the regular files of the current directory tree for string \"whatever\"\n",
      "find . -type f -exec grep whatever {} \\;\n",
      "> find . -type f -exec grep -H whatever {} \\;\n",
      "> find . -type f | xargs -L 100 grep whatever\n",
      "> find . -type f | xargs grep whatever\n",
      "0.9801857471466064\n",
      "\n",
      "Find the directories whose names contain \"New Parts\" at level 3 of the current directory tree and create symlinks to them in /cygdrive/c/Views\n",
      "find -mindepth 3 -maxdepth 3 -type d -name \"New Parts\" -exec ln -s {} /cygdrive/c/Views \\;\n",
      "> find -mindepth 3 -maxdepth 3 -type d -name \"*New Parts*\" -exec ln -s -t /cygdrive/c/Views {} \\;\n",
      "0.9801242351531982\n",
      "\n",
      "Print the empty files/directories among empty1, empty2 and not_empty\n",
      "find . -maxdepth 1 -empty -printf \"%f\\n\" | sort | uniq -u\n",
      "> find empty1 empty2 not_empty -prune -empty\n",
      "0.9061082601547241\n",
      "\n",
      "display all jpg files in the current folder\n",
      "find . -type f -iregex '.*\\.jpe?g'\n",
      "> find -iname \"*.jpg\"\n",
      "0.9619700312614441\n",
      "\n",
      "display all the regular files in the folder \"$(FOLDER)\" which are modified in the last $(RETENTION)*24 hours and excluding hidden files\n",
      "find \"$(FOLDER)\" -type f -mtime -${RETENTION} -not -path \".*\" -print\n",
      "> find ${FOLDER} -type f ! -name \\\".*\\\" -mtime -${RETENTION}\n",
      "0.947348415851593\n",
      "\n",
      "Search the current directory and all of its sub-directory for any PDF files being careful to prevent the shell from expanding \"*\"  before it's passed to find.\n",
      "find . -name \"*.pdf\" -print0 | xargs -0 pdf2unix\n",
      "> find . -name \\*.pdf -print\n",
      "0.9549697637557983\n",
      "\n",
      "Find all directories named \"D\" in the current directory tree\n",
      "find -type d -name \"D\"\n",
      "> find . -name \"D\" -type d\n",
      "> find ./ -type d -name 'D'\n",
      "0.9713923931121826\n",
      "\n",
      "search for files that are readable for everybody, have at least on write bit set but are not executable for anybody\n",
      "find . -perm /222\n",
      "> find . -perm -444 -perm /222 ! -perm /111\n",
      "> find . -perm -a+r -perm /a+w ! -perm /a+x\n",
      "0.9421329498291016\n",
      "\n",
      "Find the first file/directory under current directory and quit\n",
      "find -maxdepth 1 -print0 | xargs -0 -n1 echo\n",
      "> find . ... -exec sh -c 'printf \"%s\\n\" \"$1\"; kill \"$PPID\"' sh {} \\;\n",
      "> find . ... -print -quit\n",
      "0.8944669961929321\n",
      "\n",
      "Recursively finds all files in a current folder excluding already compressed files and compresses them with level 9.\n",
      "find . -type f -not -name '*.bz2' -exec bzip2 -9 {} \\;\n",
      "> find . -type f | egrep -v '\\.bz2' | xargs bzip2 -9 &\n",
      "0.9432587623596191\n",
      "\n",
      "Set 644 permission to all regular files under /home/my/special/folder directory\n",
      "find /home/my/special/folder -type f -print0 | xargs -0 chmod 644\n",
      "> chmod 644 `find /home/my/special/folder -type f`\n",
      "0.9950547218322754\n",
      "\n",
      "Display total apparent size of a file\n",
      "du -hs /path/to/file | awk '{total += $1} END {print total}'\n",
      "> du -sb\n",
      "0.7744594812393188\n",
      "\n",
      "Set the modification timestamp of file 'filename' to specified date/time.\n",
      "touch filename\n",
      "> touch -m --date=\"Wed Jun 12 14:00:00 IDT 2013\" filename\n",
      "0.9768141508102417\n",
      "\n",
      "display all files in the current folder expect text files\n",
      "find . -type f -iregex \".*\\.text$\"\n",
      "> find . -name \"*.txt\" -prune -o -print\n",
      "0.9121903777122498\n",
      "\n",
      "List the names of all files under current directory\n",
      "find . -exec basename {} \\;\n",
      "> find . -type f -exec basename {} \\;\n",
      "0.9303653240203857\n",
      "\n",
      "search for the file foo in  the current folder and display a long listing of it in sorted order of modification date\n",
      "find . -name foo -type f -ls\n",
      "> find . -name foo | xargs ls -tl\n",
      "0.9735726118087769\n",
      "\n",
      "Search the system for files and directories owned by group `managers'\n",
      "find / -group managers\n",
      "> find / -group managers -print\n",
      "0.995171070098877\n",
      "\n",
      "List file contents of compressed file $i\n",
      "zcat $i | gzip > $i.gz\n",
      "> gzip -l $i\n",
      "0.8596766591072083\n",
      "\n",
      "Move all regular files under current directory to ./newdir\n",
      "find . -type f -exec mv {} ./newdir \\;\n",
      "> find ./ -type f -print | xargs    -i mv -f {} ./newdir\n",
      "> find ./ -type f -print | xargs    -l56 -I {} mv -f {} ./newdir\n",
      "0.975232720375061\n",
      "\n",
      "find all the files in the home folder which end with \".tex\"\n",
      "find ~ -name '*.tex'\n",
      "> find ~ -iname '*.tex'\n",
      "0.9914618134498596\n",
      "\n",
      "Print each line that is found only once in \"file1\" and \"file2\" combined\n",
      "sort file1 file2 | uniq -u\n",
      "> sort file1 file2 | uniq -u\n",
      "0.974676251411438\n",
      "EC\n",
      "display all files in current folder and follow the symbolic links and display the pointed file\n",
      "find -L\n",
      "> find -L .\n",
      "0.9797567129135132\n",
      "\n",
      "Save the greater version number of \"$1\" and \"$2\" into variable \"ver\"\n",
      "ver=$(echo \"$1\" | rev | cut -d\".\" -f2 | rev)\n",
      "> ver=`echo -ne \"$1\\n$2\" |sort -Vr |head -n1`\n",
      "0.934851884841919\n",
      "\n",
      "Find all regular files in the current directory tree and print a command to move them to the current directory\n",
      "find . -type f -execdir mv {} . \\;\n",
      "> find . -type f -exec echo mv -t . {} +\n",
      "0.944297194480896\n",
      "\n",
      "Find all files that were modified later than ordinary_file in the current directory and its sub-directories.\n",
      "find . -newer actual_file\n",
      "> find -newer ordinary_file\n",
      "0.9524500370025635\n",
      "\n",
      "List all files under current directory matching the regex '.*\\(c\\|h\\|cpp\\)'\n",
      "find . -type f -regex '.*\\(c\\|h\\|cpp\\)' -exec ls {} \\;\n",
      "> find . -type f -regex '.*\\(c\\|h\\|cpp\\)' -exec ls {} \\;\n",
      "0.9786696434020996\n",
      "EC\n",
      "find all the header files in /usr/include which have been modified in the last 400 days\n",
      "find /usr/include -name '*.h' -mtime 400\n",
      "> find /usr/include -type f -mtime -400 -name \"*.h\"\n",
      "0.9865968823432922\n",
      "\n",
      "Find and delete all core files in the user's home directory and below.\n",
      "find ~/ -name core -type f -print0 | xargs -0 rm -f\n",
      "> find ~/ -name 'core*' -exec rm {} \\\n",
      "0.9633044600486755\n",
      "\n",
      "Save the md5 sum hash of \"$my_iso_file\" to variable \"md5\"\n",
      "md5=$(md5sum \"$my_iso_file\")\n",
      "> md5=$(md5sum \"$my_iso_file\" | cut -d ' ' -f 1)\n",
      "0.9865167737007141\n",
      "\n",
      "Find all *shp* files/directories under current directory\n",
      "find . -name \"*shp*\"\n",
      "> find . -name '*shp*'\n",
      "0.9783707857131958\n",
      "\n",
      "Find all files in the /home/myuser directory recursively that are older than 7 days\n",
      "find /home/myuser -mtime +7\n",
      "> find /home/myuser -mtime +7 -print\n",
      "0.9955922365188599\n",
      "\n",
      "Save IP addresses of the host name in variable \"ip\"\n",
      "ip=$(hostname)\n",
      "> ip=$(hostname -I)\n",
      "0.9491490721702576\n",
      "\n",
      "Find all instances of first column with unique rest of line, and output a count for each first column that found in unique lines.\n",
      "awk 'FNR==NR{a[$1]=$0;next} ($1 in a){print a[$1]}'  Input_file1  Input_file2\n",
      "> sort file | uniq | cut -f1 -d' ' | uniq -c | rev\n",
      "0.8398584127426147\n",
      "\n"
     ]
    }
   ],
   "source": [
    "for prompt in xx_nl:\n",
    "    print(prompt)\n",
    "    resp = predict_single_mod(model, tokenizer, prompt, beams=3)\n",
    "    print(resp[0])\n",
    "    right = test_cm[test_nl.index(prompt)]\n",
    "    for x in right:\n",
    "        print(\">\", x)\n",
    "    print(resp[1].item())\n",
    "    if resp[0] in right:\n",
    "        print(\"EC\")\n",
    "    else:\n",
    "        print()\n",
    "    \n",
    "    \n",
    "#set(xx_nl).intersection(set(train_nl))"
   ]
  },
  {
   "cell_type": "code",
   "execution_count": 29,
   "metadata": {},
   "outputs": [
    {
     "data": {
      "text/plain": [
       "81"
      ]
     },
     "execution_count": 29,
     "metadata": {},
     "output_type": "execute_result"
    }
   ],
   "source": [
    "len(set(xx_nl).intersection(set(train_nl)))"
   ]
  },
  {
   "cell_type": "code",
   "execution_count": 20,
   "metadata": {},
   "outputs": [],
   "source": [
    "def flt(l):\n",
    "    return [x[0] for x in l]"
   ]
  }
 ],
 "metadata": {
  "kernelspec": {
   "display_name": "Python 3",
   "language": "python",
   "name": "python3"
  },
  "language_info": {
   "codemirror_mode": {
    "name": "ipython",
    "version": 3
   },
   "file_extension": ".py",
   "mimetype": "text/x-python",
   "name": "python",
   "nbconvert_exporter": "python",
   "pygments_lexer": "ipython3",
   "version": "3.7.6"
  }
 },
 "nbformat": 4,
 "nbformat_minor": 4
}
