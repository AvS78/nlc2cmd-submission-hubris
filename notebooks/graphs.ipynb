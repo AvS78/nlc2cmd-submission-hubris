{
 "cells": [
  {
   "cell_type": "markdown",
   "metadata": {},
   "source": [
    "Notebook used to play with visualisations, graphs, results of experiments, etc."
   ]
  },
  {
   "cell_type": "code",
   "execution_count": 1,
   "metadata": {},
   "outputs": [
    {
     "name": "stdout",
     "output_type": "stream",
     "text": [
      "Setting bashlex grammar using file: /home/jaron/shared/internship-jaron/bashlint/grammar/grammar100.txt\n",
      "Bashlint grammar set up (148 utilities)\n",
      "\n"
     ]
    }
   ],
   "source": [
    "import os\n",
    "import sys\n",
    "import importlib\n",
    "import random\n",
    "import itertools\n",
    "\n",
    "import torch\n",
    "import numpy as np\n",
    "import matplotlib.pyplot as plt\n",
    "import matplotlib\n",
    "\n",
    "from nltk.translate.bleu_score import sentence_bleu\n",
    "from transformers import GPT2LMHeadModel, GPT2Tokenizer, PreTrainedModel\n",
    "\n",
    "module_path = os.path.abspath(os.path.join('..'))\n",
    "sys.path.insert(0, module_path)\n",
    "\n",
    "from src.config import set_cfg, cfg\n",
    "from src.run import get_model, get_tokenizer\n",
    "from src.tm_metric import compute_metric\n",
    "from src.generate import predict_single_mod\n",
    "from src.dataset import get_validation_data\n",
    "\n",
    "from src.generate import encode, predict_single_mod\n",
    "import src.diverse_beam_search as mbs\n",
    "\n",
    "\n",
    "\n",
    "base_path = 'output/clai2/'"
   ]
  },
  {
   "cell_type": "code",
   "execution_count": 2,
   "metadata": {},
   "outputs": [],
   "source": [
    "# read the content of a file in a certain run folder\n",
    "def readfile(file, run=\"\"):\n",
    "    path = base_path + run + '/' + file\n",
    "    with open(path, 'r') as f:\n",
    "        return f.read()\n",
    "\n",
    "# load data of the all runs in base_bath\n",
    "def get_runs():\n",
    "    runs = []\n",
    "    for i, folder in enumerate(os.listdir(base_path)):\n",
    "        conf = eval(readfile('conf.txt', folder))\n",
    "        conf['name'] = folder\n",
    "        runs.append(conf)\n",
    "        \n",
    "    runs = sorted(runs, key=lambda x: x['name'])\n",
    "    good_runs = []\n",
    "    avg_metric = []\n",
    "    for run in runs:\n",
    "        try:\n",
    "            metric = readfile('metric.txt', run['name'])\n",
    "        except:\n",
    "            # if the run is started but did not complete a complete epoch,\n",
    "            # there will be no validation data an hence no metric file.\n",
    "            # we can safely discard there runs\n",
    "            continue\n",
    "            \n",
    "        metric = metric.split(\"\\n\")\n",
    "        metric = [[eval(x) for x in entry[1:-1].split(',') if x] for entry in metric if entry]\n",
    "        avg = [np.mean(x) for x in metric]\n",
    "        avg_metric.append(avg)\n",
    "        good_runs.append(run)\n",
    "    return good_runs, np.array(avg_metric)\n"
   ]
  },
  {
   "cell_type": "code",
   "execution_count": 3,
   "metadata": {},
   "outputs": [
    {
     "name": "stdout",
     "output_type": "stream",
     "text": [
      "11-10_19:16:57\n",
      "11-10_20:34:01\n",
      "11-10_21:52:38\n",
      "11-11_08:30:35\n",
      "11-11_09:43:49\n",
      "11-11_13:22:03\n",
      "11-11_15:41:17\n",
      "11-11_18:58:45\n",
      "11-12_17:06:02\n",
      "prometheus\n",
      "small_icarus\n"
     ]
    },
    {
     "name": "stderr",
     "output_type": "stream",
     "text": [
      "/opt/conda/lib/python3.7/site-packages/ipykernel_launcher.py:32: VisibleDeprecationWarning: Creating an ndarray from ragged nested sequences (which is a list-or-tuple of lists-or-tuples-or ndarrays with different lengths or shapes) is deprecated. If you meant to do this, you must specify 'dtype=object' when creating the ndarray\n"
     ]
    }
   ],
   "source": [
    "# functions used to filter runs by constraints on the hyperparameters\n",
    "\n",
    "def has_constraint(run, constr):\n",
    "    for k, v in constr.items():\n",
    "        if k not in run.keys():\n",
    "            continue\n",
    "        if run[k] != v:\n",
    "            return False\n",
    "    return True\n",
    "\n",
    "def avg_under(constr):\n",
    "    ind = [i for i, run in enumerate(runs) \n",
    "               if has_constraint(run, constr)]\n",
    "    print(ind)\n",
    "    solutions = np.mean([metric_averages[i] for i in ind], axis=0)\n",
    "    return solutions\n",
    "\n",
    "for run in get_runs()[0]:\n",
    "    print(run['name'])"
   ]
  },
  {
   "cell_type": "markdown",
   "metadata": {},
   "source": [
    "# Graphs"
   ]
  },
  {
   "cell_type": "code",
   "execution_count": 4,
   "metadata": {},
   "outputs": [
    {
     "name": "stdout",
     "output_type": "stream",
     "text": [
      "[0]\n",
      "[1, 4]\n"
     ]
    },
    {
     "name": "stderr",
     "output_type": "stream",
     "text": [
      "/opt/conda/lib/python3.7/site-packages/ipykernel_launcher.py:32: VisibleDeprecationWarning: Creating an ndarray from ragged nested sequences (which is a list-or-tuple of lists-or-tuples-or ndarrays with different lengths or shapes) is deprecated. If you meant to do this, you must specify 'dtype=object' when creating the ndarray\n"
     ]
    },
    {
     "data": {
      "text/plain": [
       "<matplotlib.legend.Legend at 0x7f011ba88750>"
      ]
     },
     "execution_count": 4,
     "metadata": {},
     "output_type": "execute_result"
    },
    {
     "data": {
      "image/png": "[encoded data removed]",
      "text/plain": [
       "<Figure size 432x288 with 1 Axes>"
      ]
     },
     "metadata": {
      "needs_background": "light"
     },
     "output_type": "display_data"
    }
   ],
   "source": [
    "# batch sizes\n",
    "runs, metric_averages = get_runs()\n",
    "blocked_2b = avg_under({'encoding': 'blocked', 'epochs':10, 'model':'gpt2', 'max_block':200, 'batch_size':2})\n",
    "blocked_4b = avg_under({'encoding': 'blocked', 'epochs':10, 'model':'gpt2', 'max_block':200, 'batch_size':4})\n",
    "\n",
    "plt.plot(blocked_2b, label='batch size 2')\n",
    "plt.plot(blocked_4b, label='batch size 4')\n",
    "plt.grid()\n",
    "plt.legend()"
   ]
  },
  {
   "cell_type": "code",
   "execution_count": 5,
   "metadata": {},
   "outputs": [
    {
     "name": "stdout",
     "output_type": "stream",
     "text": [
      "[1, 4]\n",
      "[3]\n"
     ]
    },
    {
     "name": "stderr",
     "output_type": "stream",
     "text": [
      "/opt/conda/lib/python3.7/site-packages/ipykernel_launcher.py:32: VisibleDeprecationWarning: Creating an ndarray from ragged nested sequences (which is a list-or-tuple of lists-or-tuples-or ndarrays with different lengths or shapes) is deprecated. If you meant to do this, you must specify 'dtype=object' when creating the ndarray\n"
     ]
    },
    {
     "data": {
      "text/plain": [
       "<matplotlib.legend.Legend at 0x7f16e951ecd0>"
      ]
     },
     "execution_count": 5,
     "metadata": {},
     "output_type": "execute_result"
    },
    {
     "data": {
      "image/png": "[encoded data removed]",
      "text/plain": [
       "<Figure size 432x288 with 1 Axes>"
      ]
     },
     "metadata": {
      "needs_background": "light"
     },
     "output_type": "display_data"
    }
   ],
   "source": [
    "# epochs\n",
    "runs, metric_averages = get_runs()\n",
    "blocked_10e = avg_under({'encoding': 'blocked', 'epochs':10, 'model':'gpt2', 'max_block':200, 'batch_size':4})\n",
    "blocked_20e = avg_under({'encoding': 'blocked', 'epochs':20, 'model':'gpt2', 'max_block':200, 'batch_size':4})\n",
    "\n",
    "\n",
    "plt.plot(blocked_10e, label='batch size 2')\n",
    "plt.plot(blocked_20e, label='batch size 4')\n",
    "plt.grid()\n",
    "plt.legend()"
   ]
  },
  {
   "cell_type": "code",
   "execution_count": 6,
   "metadata": {},
   "outputs": [
    {
     "name": "stdout",
     "output_type": "stream",
     "text": [
      "[3]\n",
      "[2]\n"
     ]
    },
    {
     "name": "stderr",
     "output_type": "stream",
     "text": [
      "/opt/conda/lib/python3.7/site-packages/ipykernel_launcher.py:32: VisibleDeprecationWarning: Creating an ndarray from ragged nested sequences (which is a list-or-tuple of lists-or-tuples-or ndarrays with different lengths or shapes) is deprecated. If you meant to do this, you must specify 'dtype=object' when creating the ndarray\n"
     ]
    },
    {
     "data": {
      "text/plain": [
       "<matplotlib.legend.Legend at 0x7f145700b1d0>"
      ]
     },
     "execution_count": 6,
     "metadata": {},
     "output_type": "execute_result"
    },
    {
     "data": {
      "image/png": "[encoded data removed]",
      "text/plain": [
       "<Figure size 432x288 with 1 Axes>"
      ]
     },
     "metadata": {
      "needs_background": "light"
     },
     "output_type": "display_data"
    }
   ],
   "source": [
    "# interleaving\n",
    "runs, metric_averages = get_runs()\n",
    "blocked = avg_under({'encoding': 'blocked', 'epochs':20, 'model':'gpt2', 'max_block':200, 'batch_size':4})\n",
    "blocked_inter = avg_under({'encoding': 'inter_blocked', 'epochs':20, 'model':'gpt2', 'max_block':200, 'batch_size':4})\n",
    "\n",
    "\n",
    "plt.plot(blocked, label='no inter')\n",
    "plt.plot(blocked_inter, label='with inter')\n",
    "plt.grid()\n",
    "plt.legend()"
   ]
  },
  {
   "cell_type": "code",
   "execution_count": 7,
   "metadata": {},
   "outputs": [
    {
     "name": "stdout",
     "output_type": "stream",
     "text": [
      "[6]\n",
      "[7]\n",
      "[8]\n"
     ]
    },
    {
     "name": "stderr",
     "output_type": "stream",
     "text": [
      "/opt/conda/lib/python3.7/site-packages/ipykernel_launcher.py:32: VisibleDeprecationWarning: Creating an ndarray from ragged nested sequences (which is a list-or-tuple of lists-or-tuples-or ndarrays with different lengths or shapes) is deprecated. If you meant to do this, you must specify 'dtype=object' when creating the ndarray\n"
     ]
    },
    {
     "data": {
      "text/plain": [
       "<matplotlib.legend.Legend at 0x7f14570b5450>"
      ]
     },
     "execution_count": 7,
     "metadata": {},
     "output_type": "execute_result"
    },
    {
     "data": {
      "image/png": "[encoded data removed]",
      "text/plain": [
       "<Figure size 720x432 with 1 Axes>"
      ]
     },
     "metadata": {
      "needs_background": "light"
     },
     "output_type": "display_data"
    }
   ],
   "source": [
    "# model size\n",
    "runs, metric_averages = get_runs()\n",
    "#small = avg_under({'encoding': 'blocked', 'epochs':20, 'model':'gpt2', 'max_block':200, 'batch_size':4})\n",
    "#medium = avg_under({'encoding': 'inter_blocked', 'epochs':20, 'model':'gpt2-medium', 'max_block':200, 'batch_size':2, 'grad_acc':2})\n",
    "medium_slow = avg_under({'encoding': 'inter_blocked', 'epochs':20, 'model':'gpt2-medium', 'max_block':200, 'batch_size':2, 'grad_acc':4})\n",
    "large = avg_under({'encoding': 'inter_blocked', 'epochs':10, 'model':'gpt2-large', 'max_block':200, 'batch_size':16, 'grad_acc':1})\n",
    "large_slow = avg_under({'encoding': 'inter_blocked', 'epochs':10, 'model':'gpt2-large', 'max_block':200, 'batch_size':2, 'grad_acc':16})\n",
    "\n",
    "\n",
    "plt.figure(figsize=(10, 6))\n",
    "#plt.plot(small, label='small')\n",
    "#plt.plot(medium, label='medium')\n",
    "plt.plot(medium_slow, label='medium_slow')\n",
    "plt.plot(large, label='large')\n",
    "plt.plot(large_slow, label='large_slow')\n",
    "plt.ylim((0.30, 0.7))\n",
    "\n",
    "\n",
    "plt.grid()\n",
    "plt.legend()"
   ]
  },
  {
   "cell_type": "code",
   "execution_count": null,
   "metadata": {},
   "outputs": [],
   "source": []
  },
  {
   "cell_type": "markdown",
   "metadata": {},
   "source": [
    "# Generation comparison"
   ]
  },
  {
   "cell_type": "code",
   "execution_count": 4,
   "metadata": {},
   "outputs": [
    {
     "name": "stderr",
     "output_type": "stream",
     "text": [
      "/opt/conda/lib/python3.7/site-packages/ipykernel_launcher.py:32: VisibleDeprecationWarning: Creating an ndarray from ragged nested sequences (which is a list-or-tuple of lists-or-tuples-or ndarrays with different lengths or shapes) is deprecated. If you meant to do this, you must specify 'dtype=object' when creating the ndarray\n"
     ]
    },
    {
     "name": "stdout",
     "output_type": "stream",
     "text": [
      "{'sep1': 'english:', 'sep2': 'bash:', 'encoding': 'inter_blocked', 'max_line': 170, 'max_block': 200, 'data_path': 'data/clai/', 'eos': '<|endoftext|>', 'model': 'gpt2-large', 'device': 'cpu', 'epochs': 10, 'batch_size': 2, 'grad_acc': 16, 'out_path': 'output/clai2/', 'val_metric': 'template', 'beams': 5, 'val_n': 5, 'max_gen': 200, 'add_tokens': False, 'random_init': False, 'name': '11-12_17:06:02'}\n"
     ]
    },
    {
     "name": "stderr",
     "output_type": "stream",
     "text": [
      "Using pad_token, but it is not set yet.\n"
     ]
    },
    {
     "name": "stdout",
     "output_type": "stream",
     "text": [
      "EOS <|endoftext|> 50256\n",
      "PAD <|endoftext|> 50256\n",
      "{'sep1': 'english:', 'sep2': 'bash:', 'encoding': 'blocked', 'max_line': 170, 'max_block': 150, 'data_path': 'data/clai/', 'eos': '<|endoftext|>', 'model': 'gpt2-medium', 'device': 'cuda', 'val_n': None, 'epochs': 40, 'batch_size': 4, 'grad_acc': 2, 'out_path': 'output/clai2/', 'beams': 2, 'max_gen': 200, 'add_tokens': False, 'random_init': False, 'name': 'prometheus'}\n"
     ]
    },
    {
     "name": "stderr",
     "output_type": "stream",
     "text": [
      "Using pad_token, but it is not set yet.\n"
     ]
    },
    {
     "name": "stdout",
     "output_type": "stream",
     "text": [
      "EOS <|endoftext|> 50256\n",
      "PAD <|endoftext|> 50256\n"
     ]
    }
   ],
   "source": [
    "def load_run(i):\n",
    "    run = get_runs()[0][i]\n",
    "    print(run)\n",
    "    set_cfg(run)\n",
    "    set_cfg('device', 'cuda')\n",
    "    tokenizer = get_tokenizer()\n",
    "    model = get_model(tokenizer, resume=True)\n",
    "    model.eval()\n",
    "    return model, tokenizer\n",
    "\n",
    "mod_m, tok_m = load_run(8)\n",
    "mod_l, tok_l = load_run(-2)\n",
    "dev_nls, dev_cms = get_validation_data()"
   ]
  },
  {
   "cell_type": "code",
   "execution_count": 5,
   "metadata": {},
   "outputs": [],
   "source": [
    "def get_template_score(dev_cm, pred_cms, confs):\n",
    "    PARAMS = {'u1': 1., 'u2':1.}\n",
    "    scores = [compute_metric(pred_cm, conf, dev_cm, PARAMS)\n",
    "                for pred_cm, conf in zip(pred_cms, confs)]\n",
    "\n",
    "    if any(x > 0 for x in scores):\n",
    "        total_score = max(scores)\n",
    "    else:\n",
    "        total_score = sum(scores) / len(scores)\n",
    "    return total_score\n",
    "\n",
    "def second_opinion(model, tokenizer, query, result):\n",
    "    query_len = len(tokenizer.encode(encode(query)))\n",
    "    prompt = encode(query)+\" \"+result+'\\n'\n",
    "    tokens = tokenizer.encode(prompt, return_tensors='pt')\n",
    "    tokens = tokens.to(cfg('device'))\n",
    "    s = []\n",
    "    for i in range(query_len, tokens.numel()):\n",
    "        output = model(tokens[:,:i])\n",
    "        next_token = tokens[:,i].item()\n",
    "        next_prob = output[0][:, -1, :].cpu().detach()\n",
    "        next_prob = torch.nn.functional.log_softmax(next_prob, dim=-1).squeeze()\n",
    "        s.append(torch.exp(next_prob[next_token]).item())\n",
    "    return np.mean(s)\n",
    "\n",
    "def make_predictions(model1, model2, tokenizer1, tokenizer2, dev_nls, result_cnt=5):\n",
    "    predictions1, predictions2 = [], []\n",
    "    for invocation in dev_nls:\n",
    "        p1 = predict_single_mod(model1, tokenizer1, invocation, top=2*result_cnt)\n",
    "        p2 = predict_single_mod(model2, tokenizer2, invocation, top=2*result_cnt)\n",
    "        predictions1.append(p1)\n",
    "        predictions2.append(p2)\n",
    "    return predictions1, predictions2\n",
    "    \n",
    "\n",
    "p1, p2 = make_predictions(mod_m, mod_l, tok_m, tok_l, dev_nls)\n"
   ]
  },
  {
   "cell_type": "code",
   "execution_count": 6,
   "metadata": {},
   "outputs": [],
   "source": [
    "PARAMS = {'u1': 1., 'u2':1.}\n",
    "\n",
    "with open('data/pred/dev_nl.txt', 'w+') as f_nl:\n",
    "    with open('data/pred/dev_cm.txt', 'w+') as f_cm:\n",
    "        with open('data/pred/dev_sc.txt', 'w+') as f_sc:\n",
    "            for pp1, pp2, dev_nl, dev_cm in zip(p1, p2, dev_nls, dev_cms):\n",
    "                for p in pp1[0] + pp2[0]:\n",
    "                    print(dev_nl, file=f_nl)\n",
    "                    #print(dev_cm[0], file=f_cm)\n",
    "                    print(p, file=f_cm)\n",
    "                    s = compute_metric(p, 1, dev_cm[0], PARAMS)\n",
    "                    print(s, file=f_sc)\n"
   ]
  },
  {
   "cell_type": "code",
   "execution_count": 8,
   "metadata": {
    "collapsed": true,
    "jupyter": {
     "outputs_hidden": true
    }
   },
   "outputs": [
    {
     "name": "stdout",
     "output_type": "stream",
     "text": [
      "[DEBUG]: TM score 54.92\n",
      "-1.0\n",
      "['tac File | sed -e Program | tac | sed -e Program']\n",
      "['rm File', 'rmdir Directory', 'rm File File', 'sed Program File', 'echo -e Regex | rev | cut -d Regex -f Number | rev']\n",
      "-0.4\n",
      "['rsync File File File']\n",
      "['cp -R File File', 'rsync -a -v --exclude Regex --exclude Regex File File', 'rsync -o rsync-path File File', 'cp -r File File', 'rsync -o rsync,destination']\n",
      "-1.0\n",
      "['ln -s -f File Regex']\n",
      "['rename Regex Regex', 'symbolic -o cpio -p -d Regex', 'rsync -a -v File File', 'shred File', 'rsync File File']\n",
      "-1.0\n",
      "['comm -1 -2 <(zcat Regex) <(zcat Regex)']\n",
      "['zcat Regex | sed Program', 'zcat Regex | cut -d Regex -f Number', 'zcat Regex | sed -n Program', 'cat File | xargs -I {} cat {} | wc -l', 'zcat Regex | awk Program']\n",
      "-0.4166666666666667\n",
      "['find Path \\\\(-name Regex -or -name Regex \\\\)']\n",
      "['find Path -regex Regex | xargs -I {} grep -P Regex {}', 'find Path -regex Regex -type f', 'find Path -regex Regex', 'find Path -regextype posix-egrep -regex Regex', 'find Path -type f -regex Regex']\n",
      "-0.2\n",
      "['ifconfig Regex | grep -E -o Regex']\n",
      "['ifconfig Regex | grep Regex | cut -d Regex -f Number | cut -d Regex -f Number | grep Regex | cut -d Regex -f Number', 'ifconfig Regex | grep Regex | cut -d Regex -f Number', 'ifconfig Regex | grep Regex | cut -d Regex -f Number | cut -d Regex -f Number', 'ifconfig Regex | grep Regex | cut -d Regex -f Number | cut -f Number', 'ifconfig Regex | awk Program']\n",
      "-1.0\n",
      "['gunzip -l Regex']\n",
      "['zless Regex | wc -c', 'zcat Regex | head -n Quantity', 'zcat Regex | cut -d Regex -f Number', 'zless Regex | awk Program', 'zcat Regex | awk Program']\n",
      "-0.42777777777777776\n",
      "['find Path -wholename Regex | awk Program']\n",
      "['find Path -type f -wholename Regex -print0 | xargs -0 -n Quantity -P Quantity -I {} rename Regex {}', 'find Path -type f -wholename Regex | rename Regex', 'find Path -type f -name Regex | awk Program | rename Regex', 'find Path -type f \\\\(-name Regex -or -name Regex \\\\) | rename Regex', 'find Path -type f -iname Regex | rename Regex']\n",
      "-0.5999999999999999\n",
      "['find Path | sed -e Program -e Program | tr Regex Regex']\n",
      "['find Path -name Regex | xargs -I {} sed -i Program {}', 'find Path -name Regex -print0 | xargs -0 -I {} sed -i Program {}', 'find Path | xargs -I {} sed -i Program {}', 'find Path -type f | xargs -I {} sed -i Program {}', 'find Path -type f -print0 | xargs -0 -I {} sed -i Program {}']\n",
      "-0.7166666666666667\n",
      "['find Path -maxdepth Quantity | awk -F Regex Program']\n",
      "['cat File | awk Program', 'find Path -name Regex | awk Program', 'echo Regex | cut -d Regex -f Number', 'cut -d Regex -f Number File', 'find Path -name Regex | xargs -I {} echo Regex {}']\n",
      "-0.8\n",
      "['date +%a | tr Regex Regex']\n",
      "['$(date +%F)', \"$(date '+%Y-%m-%d %H:%M:%S'_strftime '%Y-%m-%d %H:%M:%S'_strftime '%Y-%m-%d %H:%M:%S'_date '+%Y-%m-%d %H:%M:%S' )\", 'echo $(date +%Y-%m-%d %H:%M:%S)', 'date \"+%Y-%m-%d %H:%M:%S\\'', 'set $(cal DateTime DateTime | tr Regex Regex | cut -d Regex -f Number)']\n",
      "-0.3944444444444444\n",
      "[\"find Path -type f -mtime +Timespan -printf '%s\\\\n' | awk Program\"]\n",
      "['find Path -type f -mtime +Timespan | head', 'find Path -mtime +Timespan -print', 'find Path -mtime +Timespan | head', 'find Path -type f -mtime +Timespan | xargs -I {} du -c -h {}', 'find Path -mtime +Timespan -print | xargs -I {} du -c -h {}']\n",
      "-0.5666666666666667\n",
      "['cd']\n",
      "['cd $(whoami | tr Regex Regex)', 'cd $(whoami | xargs -I {} dirname {})', 'cd $(whoami | cut -d Regex -f Number | tr Regex Regex)', 'chown Regex File', 'cd $(whoami)']\n",
      "-0.45\n",
      "['find Path -type f -print0 | tr -d -c Regex | wc -c']\n",
      "['find Path -type f | wc -l', 'find Path -type f | xargs -I {} wc -l {}', 'find Path -type f -print0 | xargs -0 -I {} wc -l {}', 'find Path | wc -l', 'find Path -type f -print | wc -l']\n",
      "-0.4000000000000001\n",
      "['ln --symbolic --verbose --force File Regex']\n",
      "['ln -s -f -v File Regex', 'ln -s -f $(readlink -f File) Regex', 'ln -s File Regex', 'ln -s -f File Regex', 'ln -s -v File Regex']\n",
      "-0.8\n",
      "['ssh -J Regex Regex']\n",
      "['ssh -N Regex Regex', 'ssh -H Regex Regex', 'ssh -j Regex Regex', 'ssh -p Regex Regex', 'ssh -L Regex Regex']\n",
      "-0.4\n",
      "['mount | column -t']\n",
      "['column -t -s File', 'column -t', 'mount | tee File', 'awk Program Program | column -t', 'echo Regex | column -t']\n",
      "-0.39999999999999997\n",
      "['echo Regex | sed Program']\n",
      "['set $(dirname Regex)', 'echo Regex | xargs -I {} crontab -l {}', 'echo Regex | tr Regex Regex | fold -w Quantity', 'echo Regex | cut -d Regex -f Number', 'echo Regex | fold -w Quantity | tr -d Regex']\n",
      "-0.4\n",
      "['find Path -path Regex']\n",
      "['find Path -maxdepth Quantity -name Regex', 'find Path -type f -name Regex', 'find Path -mindepth Quantity -name Regex', 'find Path -name Regex', 'find Path -name Regex -print0 | xargs -0 -I {} grep Regex {}']\n",
      "-0.7500000000000001\n",
      "['find Path -type f -printf \"%d\\\\t%p\\\\n\" | sort -n | sed -e Program']\n",
      "['find Path -depth -type f', 'find Path -type f -ls', 'ls -l -d File', 'find Path -depth -print', 'find Path -depth']\n",
      "-0.42000000000000004\n",
      "['cat File File File | sort | comm -2 -3 File File']\n",
      "['comm -2 -3 <(sort File) <(sort File) | grep Regex', 'comm -2 -3 <(sort File) <(sort File)', 'comm -1 -3 <(sort File) <(sort File)', 'comm -2 -3 <(sort File | uniq) <(sort File | uniq)', 'comm -3 <(sort File) <(sort File)']\n",
      "-1.0\n",
      "['source File']\n",
      "['bash', 'cat File', 'echo Regex', 'set -e', 'bash File']\n",
      "-1.0\n",
      "['ls -t -r $(find Path -name Regex -or -name Regex) | head - Quantity | xargs -I {} rm -f {}']\n",
      "['find Path -name Regex -print0 | xargs -0 -I {} rm {}', 'find Path -name Regex -print0 | xargs -0 -I {} rm -r -f {}', 'find Path -type f -name Regex | xargs -I {} rm -r -f {}', 'find Path -type f -name Regex | xargs -I {} rm -f {}', 'find Path -name Regex | xargs -I {} rm -r -f {}']\n",
      "-1.0\n",
      "[\"nl -b p'FooBar[0-9]' File\"]\n",
      "['comm -1 -3 <(echo Regex | rev | cut -d Regex -f Number) <(echo Regex | rev | cut -d Regex -f Number) | rev', 'cat <(sed Program File) <(sed Program File)', 'grep -F Regex File | nl -n ln', 'tac File | grep Regex', 'comm -1 -3 <(sed Program File) <(sed Program File)']\n",
      "-0.7333333333333333\n",
      "['echo Regex | cat File File | tee File']\n",
      "['echo Regex | tee File', 'echo -e Regex | tee File', 'cat File | tee File', 'tee File', 'echo -e Regex Regex | tee File']\n",
      "-0.3\n",
      "['mv File File -b -S Regex']\n",
      "['rename Regex Regex', 'mv -n File File', 'mv File File', 'mv -v File File', 'mv -r File File']\n",
      "-0.3857142857142857\n",
      "[\"find Path -type f -printf '%T@ %p\\\\n' | sort -n | tail - Quantity | cut -f Number -d Regex | sed Program | xargs -I {} ls -l {}\"]\n",
      "['find Path -type f -printf \"%T@ %p\\\\n\" | sort -n | tail - Quantity', \"find Path -type f -printf '%TY-%Tm-%Td %TH:%TM: %Tz %p\\\\n' | sort -n | tail - Quantity\", \"find Path -type f -printf '%TY-%Tm-%Td %TH:%TM: %Tz %p\\\\n' | sort -n | tail -n Quantity\", 'find Path -type f | xargs -I {} ls -l -t -r {} | tail -n Quantity', \"find Path -type f -printf '%TY-%Tm-%Td %TH:%TM: %Tz %p\\\\n' | sort | tail -n Quantity\"]\n",
      "-0.4083333333333333\n",
      "['ls -l -d $(find Path)']\n",
      "['ls File | xargs -I {} ls {}', 'ls -l', 'ls -l -h', 'ls -l -t', 'ls -l -r']\n",
      "-1.0\n",
      "['read -N Quantity Regex']\n",
      "['echo Regex | tr -d Regex', 'set -o noclobber', 'set $(symbol Regex)', 'echo Regex | tr Regex Regex | tr Regex Regex', 'echo Regex | tr Regex Regex']\n",
      "-0.6166666666666666\n",
      "['ls -d -m File | tr -d Regex']\n",
      "['find Path -type d | tr Regex Regex', 'find Path -name Regex | tr Regex Regex', 'find Path -type d | tr Regex Regex | tr Regex Regex', 'find Path -type d | tr Regex Regex | tr -d Regex', 'find Path -type d | tr Regex Regex | tr Regex Regex | tr -d Regex']\n",
      "-0.65\n",
      "['find Path -print | grep Regex File']\n",
      "['find Path -name Regex -prune -or -name Regex', 'find Path -name Regex', 'find Path -name Regex -print', 'find Path -name Regex -or -name Regex', 'find Path -iname Regex']\n",
      "-0.6\n",
      "['ssh -F File Regex']\n",
      "['scp -v File', 'ssh Regex -l Regex', 'ssh -l Regex', 'ssh Regex', 'ssh Regex Regex']\n",
      "-1.0\n",
      "['echo $(yes Regex | head -n Quantity)']\n",
      "['yes Regex | head -n Quantity', 'yes Regex | xargs -n Quantity -I {} wc -l {}', 'yes Regex | head - Quantity', 'yes Regex | xargs -I {} echo {}', 'yes Regex | xargs -n Quantity -I {} echo {}']\n",
      "-1.0\n",
      "['comm File File']\n",
      "['paste -d Regex <(sort File) <(sort File)', 'join -t Regex <(sort File) <(sort File)', 'cat File | paste -s -d File File', 'join -t Regex -o 1.1,1.2,1.3 File File', 'join <(sort File) <(sort File) | column -t']\n",
      "-0.2\n",
      "['chown -v Regex File']\n",
      "['chown -- Regex File', 'chown $(whoami) File', 'chown Regex File', 'chown Regex File File', 'chown -R Regex File']\n",
      "-1.0\n",
      "['| tee File']\n",
      "['bash', 'bash File | tee -a File', 'echo -e $(which Regex)', 'bash | tee File', 'bash File | tee File']\n",
      "-0.7125\n",
      "['find Path -name Regex | sed -e Program -e Program -e Program | xargs -I {} cp File {}']\n",
      "['find Path -type f -print0 | xargs -0 -I {} cp File {}', 'find Path -type f | xargs -I {} cp File {}', 'find Path -print0 | xargs -0 -I {} cp File {}', 'find Path -name Regex | cpio -p -d -m Regex', 'find Path -name Regex | xargs -I {} cp File {}']\n",
      "-0.65\n",
      "['tail -f Regex']\n",
      "['tail -n Quantity File', 'tail -n +Quantity File | tail -n +Quantity', 'tail -n +Quantity File | tee File', 'tail -n +Quantity File | head -n Quantity', 'tail -n +Quantity File']\n",
      "-0.8\n",
      "['basename Regex | cut -d Regex -f -Number']\n",
      "['cut -d Regex -f Number File | tr Regex Regex | cut -d Regex -f Number', 'cut -d Regex -f Number File | cut -d Regex -f Number', 'cut -d Regex -f Number File', 'cut -d Regex -f Number File | rev | cut -d Regex -f Number', 'cut -d Regex -f Number']\n",
      "-0.6\n",
      "['zcat Regex | grep -o Regex | sort | uniq -c | sort -n']\n",
      "['zcat Regex | sort | uniq | sort -n -r', 'zcat Regex | sort -n | uniq -c | sort -n -r', 'zcat Regex | sort -n | uniq -c', 'zcat Regex | sort | uniq -c | sort -n', 'zcat Regex | sort | uniq -c']\n",
      "-0.3333333333333333\n",
      "['ls | sed Program | tr -d Regex']\n",
      "['ls | tr Regex Regex | sed Program', 'ls | tr Regex Regex', 'ls -1 | tr Regex Regex | tr -d Regex', 'ls -1 | tr Regex Regex', 'ls | paste -d Regex -s']\n",
      "-0.5833333333333334\n",
      "['find Path -type f -name Regex | sed Program | sort -u']\n",
      "['find Path \\\\(-name Regex -or -name Regex \\\\) -print', 'find Path -name Regex -printf \"%h\\\\n\"', 'find Path -name Regex -printf \"%h\\\\n\" | awk Program', 'find Path -name Regex -print0 | xargs -0 -I {} dirname {}', 'find Path -name Regex -printf \"%p:%h\\\\n\"']\n",
      "-0.6333333333333333\n",
      "['echo Regex | grep -o Regex | tr -d Regex']\n",
      "['echo -n Regex | grep -v Regex', 'echo -n Regex | tr Regex Regex', 'grep -v Regex File | tr -d Regex | cut -d Regex -f Number', 'echo -e Regex | tr Regex Regex', 'echo Regex | tr Regex Regex']\n",
      "-0.7833333333333334\n",
      "['echo Regex | grep -o -E Regex | cut -c Number | rev | cut -c Number | rev']\n",
      "['echo -n -e Regex Regex', 'echo -n Regex | grep -v Regex', 'echo -n Regex | tr Regex Regex', 'echo -n -e Regex | tr Regex Regex', 'echo -e Regex | grep -v Regex']\n"
     ]
    }
   ],
   "source": [
    "def word_simil(refr, new, norm=False):\n",
    "    #print(new)\n",
    "    new = set(new.split(' '))\n",
    "    #print(refr)\n",
    "    refr = [set(x.split(' ')) for x in refr if x!=new]\n",
    "    if norm:\n",
    "        refr = [len(new&x)/max(len(x), len(new)) for x in refr]\n",
    "    else:\n",
    "        refr = [len(new&x) for x in refr]\n",
    "    #print(refr, np.mean(refr))    \n",
    "    if norm:\n",
    "        return np.mean(refr)\n",
    "    else:\n",
    "        return max(refr)\n",
    "\n",
    "def template_simil(refr, new):\n",
    "    #print()\n",
    "    bscore = -1\n",
    "    #print(\"NEW\", new)\n",
    "    for x in refr:\n",
    "        if x == new: continue\n",
    "        #print(x)\n",
    "        score = get_template_score(new, [x], [1.])\n",
    "        #print(score)\n",
    "        bscore = max(score, bscore)\n",
    "    return bscore\n",
    "\n",
    "def best_subset(ps, n):\n",
    "    best_loss = float('+inf')\n",
    "    best_ss = None\n",
    "    for ss in itertools.combinations(list(ps), n):\n",
    "        ss_loss = sum(word_simil(ss, x, False) for x in ss)\n",
    "        if ss_loss < best_loss:\n",
    "            best_loss = ss_loss\n",
    "            best_ss = ss\n",
    "    return set(ss)\n",
    "\n",
    "\n",
    "def get_equal_pairs(combi):\n",
    "    fpairs = dict()\n",
    "    combi = list(combi)\n",
    "    for p in combi:\n",
    "        fpairs[p] = {p}\n",
    "    for i in range(len(combi)):\n",
    "        pi = combi[i]\n",
    "        for j in range(i+1, len(combi)):\n",
    "            pj = combi[j]\n",
    "            score = compute_metric(pi, 1, pj, PARAMS)\n",
    "            if score >= 0.8:\n",
    "                fpairs[pi] = {pj}\n",
    "                fpairs[pj].add(pi)\n",
    "    return fpairs\n",
    "\n",
    "\n",
    "def combiner_moderna(p1, p2, result_cnt=5):\n",
    "    if len(p1&p2) == 0:\n",
    "        ins = {max(p1|p2, key=lambda x: word_simil(p1|p2, x))}\n",
    "    else:\n",
    "        ins = p1 & p2\n",
    "    \n",
    "    fpairs = get_equal_pairs(ins)\n",
    "    fpairs = {frozenset(v) for k,v in fpairs.items()}\n",
    "    for pair in fpairs:\n",
    "        best = min(ins, key=lambda x: word_simil(ins, x))\n",
    "        for pp in fpairs - {best}:\n",
    "            ins.discard(pp)\n",
    "    \n",
    "    \n",
    "    while len(ins) > result_cnt -1:\n",
    "        # too much agreement: remove most similar\n",
    "        best = max(ins, key=lambda x: word_simil(ins, x))\n",
    "        ins.remove(best)\n",
    "            \n",
    "    overig = (p1 | p2) - ins\n",
    "    fpairs = get_equal_pairs(overig)\n",
    "    while len(ins) < result_cnt and len(overig) > 0:\n",
    "        # not enough agreement: add diverse commands\n",
    "        best = min(overig, key=lambda x: word_simil(ins, x))\n",
    "        ins.add(best)\n",
    "        overig.remove(best)\n",
    "        for pp in fpairs[best]:\n",
    "            overig.discard(pp)\n",
    "    \n",
    "    preds = list(ins)\n",
    "    confs = [1.]*len(preds)\n",
    "    while len(preds) < result_cnt:\n",
    "        preds.append('date')\n",
    "        confs.append(0.)\n",
    "    return list(ins), [1.]*5\n",
    "\n",
    "def combiner_mix(p1, p2, result_cnt=5):\n",
    "    if len(p1&p2) == 0:\n",
    "        ins = {max(p1|p2, key=lambda x: word_simil(p1|p2, x))}\n",
    "    else:\n",
    "        ins = p1 & p2\n",
    "        \n",
    "    out = (p1 | p2) - ins\n",
    "    while len(ins) < 5:\n",
    "        best = min(out, key=lambda x: word_simil(p1|p2, x))\n",
    "        ins.add(best)\n",
    "        out.remove(best)\n",
    "        \n",
    "    while len(ins) > 5:\n",
    "        worst = max(ins, key=lambda x: word_simil(ins, x))\n",
    "        ins.remove(worst)\n",
    "    return list(ins), [1.]*5\n",
    "\n",
    "def combiner_mix2(p1, p2, result_cnt=5):\n",
    "    if len(p1&p2) == 0:\n",
    "        ins = {max(p1|p2, key=lambda x: word_simil(p1|p2, x))}\n",
    "    else:\n",
    "        ins = p1 & p2\n",
    "        \n",
    "    out = (p1 | p2) - ins\n",
    "    while len(ins) < 7:\n",
    "        best = min(out, key=lambda x: word_simil(p1|p2, x))\n",
    "        ins.add(best)\n",
    "        out.remove(best)\n",
    "        \n",
    "    combi = list(ins)\n",
    "    dist = dict()\n",
    "    for pp1 in combi:\n",
    "        dist[pp1] = dict()\n",
    "        for pp2 in combi:\n",
    "            if pp1 == pp2:\n",
    "                continue\n",
    "            dist[pp1][pp2] = compute_metric(pp1, 1, pp2, PARAMS)\n",
    "    def get_max(refr, new):\n",
    "        m = max([v for k, v in dist[new].items() if k in refr])\n",
    "        return m\n",
    "        \n",
    "    while len(ins) > 5:\n",
    "        worst = max(ins, key=lambda x: get_max(ins, x))\n",
    "        ins.remove(worst)\n",
    "    return list(ins), [1.]*5\n",
    "\n",
    "\n",
    "def combiner_random(p1, p2, result_cnt=5):\n",
    "    results = list(p1|p2)\n",
    "    random.shuffle(results)\n",
    "    return results[:result_cnt], [1.]*5\n",
    "\n",
    "def combiner_opt(p1, p2, result_cnt=5):\n",
    "    comb = list(p1 | p2)\n",
    "    return comb, [1.]*len(comb)\n",
    "\n",
    "def validate(p1s, p2s, dev_cms, result_cnt=5):\n",
    "    predictions = []\n",
    "    confidences = []\n",
    "    \n",
    "    last = []\n",
    "    for p1, p2 in zip(p1s, p2s):\n",
    "        p1 = set(p1[0])\n",
    "        p2 = set(p2[0])\n",
    "        comb, conf = combiner_moderna(p1, p2, result_cnt)\n",
    "        \n",
    "        predictions.append(comb)\n",
    "        confidences.append(conf)\n",
    "        last.append(len(p1&p2))\n",
    "    \n",
    "    scores_template = [get_template_score(dev_cm[0], pred_cm, confs)\n",
    "                for (pred_cm, confs, dev_cm) in zip(predictions, confidences, dev_cms)]\n",
    "    print(f\"[DEBUG]: TM score {100*np.mean(scores_template):.2f}\")\n",
    "\n",
    "    return scores_template, predictions, confidences, last\n",
    "\n",
    "result = validate(p1, p2, dev_cms)\n",
    "\n",
    "for s, p, c, l, d in zip(*result, dev_cms):\n",
    "    if s<0:\n",
    "        print(s)\n",
    "        print(d)\n",
    "        print(p)\n",
    "# 63.11"
   ]
  },
  {
   "cell_type": "code",
   "execution_count": 21,
   "metadata": {},
   "outputs": [],
   "source": []
  },
  {
   "cell_type": "code",
   "execution_count": 120,
   "metadata": {},
   "outputs": [
    {
     "data": {
      "text/plain": [
       "<matplotlib.collections.PathCollection at 0x7f14499a05d0>"
      ]
     },
     "execution_count": 120,
     "metadata": {},
     "output_type": "execute_result"
    },
    {
     "data": {
      "image/png": "[encoded data removed]",
      "text/plain": [
       "<Figure size 432x288 with 1 Axes>"
      ]
     },
     "metadata": {
      "needs_background": "light"
     },
     "output_type": "display_data"
    }
   ],
   "source": [
    "plt.scatter(result[-1], result[0])"
   ]
  },
  {
   "cell_type": "code",
   "execution_count": 18,
   "metadata": {},
   "outputs": [
    {
     "name": "stdout",
     "output_type": "stream",
     "text": [
      "find Path \\(-name Regex -or -name Regex \\)\n",
      "['find Path -regex Regex -print', 'find Path -regex Regex', 'find Path -regextype posix-extended -regex Regex', 'find Path -regextype posix-egrep -regex Regex', 'find Path | grep -E Regex']\n",
      "[1.0, 1.0, 1.0, 1.0, 1.0]\n",
      "-0.35\n",
      "\n",
      "echo Regex | sed Program\n",
      "['echo Regex', 'dirname $(dirname Regex)', 'echo Regex | tr -d Regex', 'echo Regex | awk Program', 'dirname -- Regex']\n",
      "[1.0, 1.0, 1.0, 1.0, 1.0]\n",
      "-0.4\n",
      "\n",
      "sed Program File\n",
      "['sed -i Program File', 'awk Program Program', 'sed -n Program', 'awk Program Program Program', 'awk -v Program -v Program Program Program']\n",
      "[1.0, 1.0, 1.0, 1.0, 1.0]\n",
      "-0.6\n",
      "\n",
      "cat File File File | sort | comm -2 -3 File File\n",
      "['comm -1 -3 <(sort File) <(sort File)', 'comm -2 -3 <(sort File) <(sort File) | grep -v Regex', 'comm -3 File File | comm -3 File File | comm -3 File File', 'comm -2 -3 <(sort File) <(sort File)', 'comm -2 -3 <(sort File) <(sort File) <(sort File)']\n",
      "[1.0, 1.0, 1.0, 1.0, 1.0]\n",
      "-0.5333333333333333\n",
      "\n",
      "echo Regex | cat File File | tee File\n",
      "['echo Regex | tee File | cat File', 'echo Regex |fifo File', 'echo Regex |fifo Regex', 'echo Regex | ssh -o File Regex', 'echo Regex | tee File | cat File File']\n",
      "[1.0, 1.0, 1.0, 1.0, 1.0]\n",
      "-0.6\n",
      "\n",
      "find Path -type f -printf '%T@ %p\\n' | sort -n | tail - Quantity | cut -f Number -d Regex | sed Program | xargs -I {} ls -l {}\n",
      "['find Path -type f -print0 | xargs -0 -I {} ls -l -t -r {} | tail -n Quantity', \"find Path -type f -printf '%TY-%Tm-%Td %TH:%TM: %Tz %p\\\\n' | sort -n | tail -n Quantity\", \"find Path -type f -printf '%TY-%Tm-%Td %TT   %p\\\\n' | sort\", \"find Path -type f -printf '%TY-%Tm-%Td %TH:%TM: %Tz %p\\\\n' | sort | tail -n Quantity\", 'find Path -type f | sed Program | xargs -I {} ls File {} | awk Program | sort | tail - Quantity']\n",
      "[1.0, 1.0, 1.0, 1.0, 1.0]\n",
      "-0.6071428571428571\n",
      "\n",
      "read -N Quantity Regex\n",
      "['echo Regex | tr Regex Regex', 'echo Regex', 'read -n Quantity Regex', 'seq Number Number | xargs -I {} echo {}', 'read -s Regex']\n",
      "[1.0, 1.0, 1.0, 1.0, 1.0]\n",
      "-0.8\n",
      "\n",
      "comm File File\n",
      "['awk Program Program Program Program', 'join -j Regex -o 1.1,1.2,2.3 <(sort File) <(sort File)', 'awk Program Program', 'cat File | rev | cut -f Number -d Regex | rev', 'awk Program Program Program | column -t']\n",
      "[1.0, 1.0, 1.0, 1.0, 1.0]\n",
      "-1.0\n",
      "\n",
      "| tee File\n",
      "['set -- Regex Regex Regex', 'source File | tee File', '$(cat File)', 'set -e', 'which Regex']\n",
      "[1.0, 1.0, 1.0, 1.0, 1.0]\n",
      "-1.0\n",
      "\n",
      "basename Regex | cut -d Regex -f -Number\n",
      "['echo Regex | section -t | cut -d Regex -f Number', 'section -d -l1 File Regex', 'echo Regex | sed -e Program -e Program', 'basename Regex Regex', 'basename Regex']\n",
      "[1.0, 1.0, 1.0, 1.0, 1.0]\n",
      "-0.6\n",
      "\n"
     ]
    }
   ],
   "source": [
    "for p, c, s, d in zip(preds, confs, scores, dev_cms):\n",
    "    if (s>=0):\n",
    "        continue\n",
    "    print(d[0])\n",
    "    print(p)\n",
    "    print(c)\n",
    "    print(s)\n",
    "    print()"
   ]
  },
  {
   "cell_type": "code",
   "execution_count": 33,
   "metadata": {},
   "outputs": [],
   "source": [
    "fullscores = [get_template_score(cm[0], pred, [1 for x in pred]) for pred, cm in zip(preds, dev_cms)]"
   ]
  },
  {
   "cell_type": "code",
   "execution_count": 35,
   "metadata": {},
   "outputs": [
    {
     "data": {
      "image/png": "[encoded data removed]",
      "text/plain": [
       "<Figure size 432x288 with 1 Axes>"
      ]
     },
     "metadata": {
      "needs_background": "light"
     },
     "output_type": "display_data"
    }
   ],
   "source": [
    "for x, y in zip(fullscores, confs):\n",
    "    plt.scatter(x, y)"
   ]
  },
  {
   "cell_type": "code",
   "execution_count": 12,
   "metadata": {},
   "outputs": [
    {
     "name": "stdout",
     "output_type": "stream",
     "text": [
      "[DEBUG]: TM score 0.5987222222222222\n",
      "[DEBUG]: BLUE score 0.7075061571934572\n",
      "0.5987222222222222\n"
     ]
    },
    {
     "data": {
      "text/plain": [
       "(-1.0, 1.0)"
      ]
     },
     "execution_count": 12,
     "metadata": {},
     "output_type": "execute_result"
    },
    {
     "data": {
      "image/png": "[encoded data removed]",
      "text/plain": [
       "<Figure size 432x288 with 1 Axes>"
      ]
     },
     "metadata": {
      "needs_background": "light"
     },
     "output_type": "display_data"
    }
   ],
   "source": [
    "scores_old, preds_old = validate(mod_m, mod_m, tok_m, tok_m, dev_nls, dev_cms, overconfident=True)\n",
    "plt.hist(scores_old, bins='auto')\n",
    "print(np.mean(scores_old))\n",
    "plt.xlim((-1, 1))"
   ]
  },
  {
   "cell_type": "code",
   "execution_count": 40,
   "metadata": {},
   "outputs": [
    {
     "name": "stdout",
     "output_type": "stream",
     "text": [
      "[DEBUG]: TM score 0.5983156746031746\n",
      "[DEBUG]: BLUE score 0.6859032875576614\n",
      "0.5983156746031746\n"
     ]
    },
    {
     "data": {
      "text/plain": [
       "(-1.0, 1.0)"
      ]
     },
     "execution_count": 40,
     "metadata": {},
     "output_type": "execute_result"
    },
    {
     "data": {
      "image/png": "[encoded data removed]",
      "text/plain": [
       "<Figure size 432x288 with 1 Axes>"
      ]
     },
     "metadata": {
      "needs_background": "light"
     },
     "output_type": "display_data"
    }
   ],
   "source": [
    "scores_overconf, preds_overconf = validate(model, tokenizer, dev_nls, dev_cms, overconfident=True)\n",
    "plt.hist(scores_overconf, bins='auto')\n",
    "print(np.mean(scores_overconf))\n",
    "plt.xlim((-1, 1))"
   ]
  },
  {
   "cell_type": "code",
   "execution_count": 41,
   "metadata": {},
   "outputs": [
    {
     "name": "stdout",
     "output_type": "stream",
     "text": [
      "[DEBUG]: TM score 0.577224859744878\n",
      "[DEBUG]: BLUE score 0.6859032875576614\n",
      "0.577224859744878\n"
     ]
    },
    {
     "data": {
      "text/plain": [
       "(-1.0, 1.0)"
      ]
     },
     "execution_count": 41,
     "metadata": {},
     "output_type": "execute_result"
    },
    {
     "data": {
      "image/png": "[encoded data removed]",
      "text/plain": [
       "<Figure size 432x288 with 1 Axes>"
      ]
     },
     "metadata": {
      "needs_background": "light"
     },
     "output_type": "display_data"
    }
   ],
   "source": [
    "scores, preds = validate(model, tokenizer, dev_nls, dev_cms)\n",
    "plt.hist(scores, bins='auto')\n",
    "print(np.mean(scores))\n",
    "plt.xlim((-1, 1))"
   ]
  },
  {
   "cell_type": "code",
   "execution_count": 42,
   "metadata": {},
   "outputs": [
    {
     "name": "stdout",
     "output_type": "stream",
     "text": [
      "[DEBUG]: TM score 0.5983156746031746\n",
      "[DEBUG]: BLUE score 0.6859032875576614\n",
      "5 beams, score: 0.5983156746031746\n",
      "[DEBUG]: TM score 0.5966142857142858\n",
      "[DEBUG]: BLUE score 0.6859032875576614\n",
      "6 beams, score: 0.5966142857142858\n",
      "[DEBUG]: TM score 0.5959476190476191\n",
      "[DEBUG]: BLUE score 0.6859032875576614\n",
      "7 beams, score: 0.5959476190476191\n",
      "[DEBUG]: TM score 0.6014476190476191\n",
      "[DEBUG]: BLUE score 0.6859032875576614\n",
      "8 beams, score: 0.6014476190476191\n",
      "[DEBUG]: TM score 0.6017809523809524\n",
      "[DEBUG]: BLUE score 0.6859032875576614\n",
      "9 beams, score: 0.6017809523809524\n",
      "[DEBUG]: TM score 0.5952809523809524\n",
      "[DEBUG]: BLUE score 0.6859032875576614\n",
      "10 beams, score: 0.5952809523809524\n"
     ]
    }
   ],
   "source": [
    "scores_beams = []\n",
    "for i in range(5, 11):\n",
    "    set_cfg('beams', i)\n",
    "    s, _ = validate(model, tokenizer, dev_nls, dev_cms, overconfident=True)\n",
    "    s = np.mean(s)\n",
    "    print(f\"{i} beams, score: {s}\")\n",
    "    scores_beams.append(s)"
   ]
  },
  {
   "cell_type": "code",
   "execution_count": 43,
   "metadata": {},
   "outputs": [
    {
     "data": {
      "text/plain": [
       "[<matplotlib.lines.Line2D at 0x7f566193d590>]"
      ]
     },
     "execution_count": 43,
     "metadata": {},
     "output_type": "execute_result"
    },
    {
     "data": {
      "image/png": "[encoded data removed]",
      "text/plain": [
       "<Figure size 432x288 with 1 Axes>"
      ]
     },
     "metadata": {
      "needs_background": "light"
     },
     "output_type": "display_data"
    }
   ],
   "source": [
    "plt.plot(range(5,11), scores_beams)"
   ]
  },
  {
   "cell_type": "code",
   "execution_count": 54,
   "metadata": {},
   "outputs": [
    {
     "data": {
      "text/plain": [
       "[<matplotlib.lines.Line2D at 0x7fd2e014aed0>]"
      ]
     },
     "execution_count": 54,
     "metadata": {},
     "output_type": "execute_result"
    },
    {
     "data": {
      "image/png": "[encoded data removed]",
      "text/plain": [
       "<Figure size 432x288 with 1 Axes>"
      ]
     },
     "metadata": {
      "needs_background": "light"
     },
     "output_type": "display_data"
    }
   ],
   "source": [
    "plt.plot(range(5,11), scores_beams)"
   ]
  },
  {
   "cell_type": "code",
   "execution_count": 67,
   "metadata": {},
   "outputs": [
    {
     "data": {
      "text/plain": [
       "0.6548159722222223"
      ]
     },
     "execution_count": 67,
     "metadata": {},
     "output_type": "execute_result"
    }
   ],
   "source": [
    "score_pcon = [max(0,x) for x in scores_overconf]\n",
    "np.mean(score_pcon)"
   ]
  },
  {
   "cell_type": "markdown",
   "metadata": {},
   "source": [
    "# diverse beam search"
   ]
  },
  {
   "cell_type": "code",
   "execution_count": 7,
   "metadata": {},
   "outputs": [],
   "source": [
    "importlib.reload(mbs)\n",
    "\n",
    "def encode(prompt):\n",
    "    return f\"{cfg('eos')} {cfg('sep1')} {prompt}\\n{cfg('sep2')}\"\n",
    "\n",
    "\n",
    "def decode(tokenizer, v):\n",
    "    text = tokenizer.decode(v, clean_up_tokenization_spaces=False)\n",
    "    # remove query at the start\n",
    "    start = text.find(cfg('sep2')) + len(cfg('sep2'))\n",
    "    text = text[start:]\n",
    "    # remove possible junk at the end\n",
    "    end = text.find(\"\\n\")\n",
    "    if end!=-1:\n",
    "        text = text[:end]\n",
    "    text = text.strip('\\n ')\n",
    "    return text\n",
    "\n",
    "\n",
    "def decode_batch(tokenizer, vs):\n",
    "    return [decode(tokenizer, v) for v in vs]\n",
    "\n",
    "def tokenize_query(tokenizer, prompt):\n",
    "    prompt = encode(prompt)\n",
    "    encoded_prompt = tokenizer.encode(prompt, return_tensors=\"pt\")\n",
    "    return encoded_prompt.to(cfg('device'))\n",
    "\n",
    "\n",
    "def predict_single_div(model, tokenizer, prompt, top=1, max_length=None, beams=None):\n",
    "    prompt = tokenize_query(tokenizer, prompt)\n",
    "    \n",
    "    PreTrainedModel._generate_beam_search = mbs._generate_beam_search\n",
    "    output = model.generate(\n",
    "        input_ids=prompt,\n",
    "        max_length=200,\n",
    "        num_beams=cfg('beams'),\n",
    "        do_sample=False,\n",
    "        num_return_sequences=top,\n",
    "        pad_token_id=tokenizer.eos_token_id,\n",
    "        #fp16 = True\n",
    "        )\n",
    "    output = decode_batch(tokenizer, output)\n",
    "\n",
    "    return output, [1 for _ in output]"
   ]
  },
  {
   "cell_type": "code",
   "execution_count": 54,
   "metadata": {},
   "outputs": [
    {
     "data": {
      "text/plain": [
       "(['find Path -name Regex -print',\n",
       "  'find Path -name Regex -print',\n",
       "  'find Path -iname Regex',\n",
       "  'find Path -iname Regex',\n",
       "  'find Path -name Regex -print'],\n",
       " [1, 1, 1, 1, 1])"
      ]
     },
     "execution_count": 54,
     "metadata": {},
     "output_type": "execute_result"
    }
   ],
   "source": [
    "predict_single_div(model, tokenizer, \"find all pdfs\", top=5)"
   ]
  },
  {
   "cell_type": "code",
   "execution_count": 19,
   "metadata": {},
   "outputs": [
    {
     "name": "stdout",
     "output_type": "stream",
     "text": [
      "[DEBUG]: TM score 0.3736130952380952\n",
      "[DEBUG]: BLUE score 0.7075061571934572\n",
      "1 0.3736130952380952\n"
     ]
    },
    {
     "name": "stderr",
     "output_type": "stream",
     "text": [
      "/opt/conda/lib/python3.7/site-packages/nltk/translate/bleu_score.py:516: UserWarning: \n",
      "The hypothesis contains 0 counts of 3-gram overlaps.\n",
      "Therefore the BLEU score evaluates to 0, independently of\n",
      "how many N-gram overlaps of lower order it contains.\n",
      "Consider using lower n-gram order or use SmoothingFunction()\n",
      "  warnings.warn(_msg)\n",
      "/opt/conda/lib/python3.7/site-packages/nltk/translate/bleu_score.py:516: UserWarning: \n",
      "The hypothesis contains 0 counts of 4-gram overlaps.\n",
      "Therefore the BLEU score evaluates to 0, independently of\n",
      "how many N-gram overlaps of lower order it contains.\n",
      "Consider using lower n-gram order or use SmoothingFunction()\n",
      "  warnings.warn(_msg)\n",
      "/opt/conda/lib/python3.7/site-packages/nltk/translate/bleu_score.py:516: UserWarning: \n",
      "The hypothesis contains 0 counts of 2-gram overlaps.\n",
      "Therefore the BLEU score evaluates to 0, independently of\n",
      "how many N-gram overlaps of lower order it contains.\n",
      "Consider using lower n-gram order or use SmoothingFunction()\n",
      "  warnings.warn(_msg)\n"
     ]
    },
    {
     "name": "stdout",
     "output_type": "stream",
     "text": [
      "[DEBUG]: TM score 0.47152976190476187\n",
      "[DEBUG]: BLUE score 0.7075061571934572\n",
      "2 0.47152976190476187\n",
      "[DEBUG]: TM score 0.5409332010582011\n",
      "[DEBUG]: BLUE score 0.7075061571934572\n",
      "3 0.5409332010582011\n",
      "[DEBUG]: TM score 0.5665128968253968\n",
      "[DEBUG]: BLUE score 0.7075061571934572\n",
      "4 0.5665128968253968\n",
      "[DEBUG]: TM score 0.5987222222222222\n",
      "[DEBUG]: BLUE score 0.7075061571934572\n",
      "5 0.5987222222222222\n"
     ]
    }
   ],
   "source": [
    "for i in range(1,6):\n",
    "    set_cfg('val_n', i)\n",
    "    scores, preds = validate(model, tokenizer, dev_nls, dev_cms, overconfident=True)\n",
    "    #plt.hist(scores, bins='auto')\n",
    "    \n",
    "    print(i, np.mean(scores))\n",
    "    #plt.xlim((-1, 1))"
   ]
  },
  {
   "cell_type": "code",
   "execution_count": 21,
   "metadata": {},
   "outputs": [
    {
     "name": "stdout",
     "output_type": "stream",
     "text": [
      "[DEBUG]: TM score 0.5987222222222222\n",
      "[DEBUG]: BLUE score 0.7075061571934572\n",
      "5 0.5987222222222222\n"
     ]
    }
   ],
   "source": [
    "set_cfg('val_n', 5)\n",
    "scores_med1, preds_med1 = validate(model, tokenizer, dev_nls, dev_cms, overconfident=True)\n",
    "#plt.hist(scores, bins='auto')\n",
    "    \n",
    "print(i, np.mean(scores_med1))\n",
    "#plt.xlim((-1, 1))"
   ]
  },
  {
   "cell_type": "code",
   "execution_count": 24,
   "metadata": {},
   "outputs": [
    {
     "name": "stdout",
     "output_type": "stream",
     "text": [
      "[DEBUG]: TM score 0.5983156746031746\n",
      "[DEBUG]: BLUE score 0.6859032875576614\n",
      "5 0.5983156746031746\n"
     ]
    }
   ],
   "source": [
    "set_cfg('val_n', 5)\n",
    "scores_large1, preds_large1 = validate(model, tokenizer, dev_nls, dev_cms, overconfident=True)\n",
    "#plt.hist(scores, bins='auto')\n",
    "    \n",
    "print(i, np.mean(scores_large1))"
   ]
  },
  {
   "cell_type": "code",
   "execution_count": 30,
   "metadata": {},
   "outputs": [
    {
     "name": "stdout",
     "output_type": "stream",
     "text": [
      "[DEBUG]: TM score 0.5963123015873016\n",
      "[DEBUG]: BLUE score 0.6965600759927517\n",
      "5 0.5963123015873016\n"
     ]
    }
   ],
   "source": [
    "set_cfg('val_n', 5)\n",
    "scores_large2, preds_large2 = validate(model, tokenizer, dev_nls, dev_cms, overconfident=True)\n",
    "#plt.hist(scores, bins='auto')\n",
    "    \n",
    "print(i, np.mean(scores_large2))"
   ]
  },
  {
   "cell_type": "code",
   "execution_count": 32,
   "metadata": {},
   "outputs": [
    {
     "data": {
      "text/plain": [
       "[<matplotlib.lines.Line2D at 0x7fc1fd017950>]"
      ]
     },
     "execution_count": 32,
     "metadata": {},
     "output_type": "execute_result"
    },
    {
     "data": {
      "image/png": "[encoded data removed]",
      "text/plain": [
       "<Figure size 432x288 with 1 Axes>"
      ]
     },
     "metadata": {
      "needs_background": "light"
     },
     "output_type": "display_data"
    }
   ],
   "source": [
    "plt.scatter(scores_large2, scores_med1)\n",
    "plt.plot((-1, 1), (-1, 1))"
   ]
  },
  {
   "cell_type": "code",
   "execution_count": 56,
   "metadata": {},
   "outputs": [
    {
     "name": "stdout",
     "output_type": "stream",
     "text": [
      "[DEBUG]: TM score 0.35923045634920636\n",
      "[DEBUG]: BLUE score 0.6490820013846478\n",
      "0.35923045634920636\n"
     ]
    },
    {
     "data": {
      "text/plain": [
       "(-1.0, 1.0)"
      ]
     },
     "execution_count": 56,
     "metadata": {},
     "output_type": "execute_result"
    },
    {
     "data": {
      "image/png": "[encoded data removed]",
      "text/plain": [
       "<Figure size 432x288 with 1 Axes>"
      ]
     },
     "metadata": {
      "needs_background": "light"
     },
     "output_type": "display_data"
    }
   ],
   "source": [
    "# DIV STRENGTH\n",
    "# 3: 32.9\n",
    "# 2: 41.6\n",
    "# 1: 37.2\n",
    "\n",
    "set_cfg('beams', 6)\n",
    "scores, preds = validate(model, tokenizer, dev_nls, dev_cms, overconfident=True, div=True)\n",
    "plt.hist(scores, bins='auto')\n",
    "print(np.mean(scores))\n",
    "plt.xlim((-1, 1))"
   ]
  },
  {
   "cell_type": "code",
   "execution_count": null,
   "metadata": {},
   "outputs": [],
   "source": []
  },
  {
   "cell_type": "code",
   "execution_count": 82,
   "metadata": {},
   "outputs": [],
   "source": [
    "\n",
    "   \n"
   ]
  }
 ],
 "metadata": {
  "kernelspec": {
   "display_name": "Python 3",
   "language": "python",
   "name": "python3"
  },
  "language_info": {
   "codemirror_mode": {
    "name": "ipython",
    "version": 3
   },
   "file_extension": ".py",
   "mimetype": "text/x-python",
   "name": "python",
   "nbconvert_exporter": "python",
   "pygments_lexer": "ipython3",
   "version": "3.7.6"
  }
 },
 "nbformat": 4,
 "nbformat_minor": 4
}
